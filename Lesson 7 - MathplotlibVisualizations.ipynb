{
 "cells": [
  {
   "cell_type": "markdown",
   "id": "7446797e",
   "metadata": {},
   "source": [
    "# Mathplotlib  Visualizations"
   ]
  },
  {
   "cell_type": "markdown",
   "id": "c3620e1c",
   "metadata": {},
   "source": [
    "## Import Libraries & Datasets"
   ]
  },
  {
   "cell_type": "code",
   "execution_count": null,
   "id": "d2c91394",
   "metadata": {},
   "outputs": [],
   "source": [
    "import matplotlib.pyplot as plt\n",
    "\n",
    "import pandas as pd\n",
    "import numpy as np"
   ]
  },
  {
   "cell_type": "markdown",
   "id": "9ad55065",
   "metadata": {},
   "source": [
    "## Basic Plots"
   ]
  },
  {
   "cell_type": "code",
   "execution_count": null,
   "id": "ef73c17a",
   "metadata": {
    "scrolled": false
   },
   "outputs": [],
   "source": [
    "price = [7.99, 7.49, 8.25, 8.87, 9.01]\n",
    "year = [2018, 2019, 2020, 2021, 2022]\n",
    "\n",
    "plt.plot(year, price)\n",
    "#If you are working in other python editors, you'll always need to include plt.show()"
   ]
  },
  {
   "cell_type": "code",
   "execution_count": null,
   "id": "cec1f49e",
   "metadata": {
    "scrolled": false
   },
   "outputs": [],
   "source": [
    "plt.scatter(year, price)"
   ]
  },
  {
   "cell_type": "code",
   "execution_count": null,
   "id": "4f2dc301",
   "metadata": {
    "scrolled": false
   },
   "outputs": [],
   "source": [
    "plt.bar(year, price)"
   ]
  },
  {
   "cell_type": "code",
   "execution_count": null,
   "id": "612f854d",
   "metadata": {},
   "outputs": [],
   "source": [
    "plt.barh(year, price)"
   ]
  },
  {
   "cell_type": "markdown",
   "id": "321acb54",
   "metadata": {},
   "source": [
    "## Pandas Dataframes & Mathplotlib"
   ]
  },
  {
   "cell_type": "code",
   "execution_count": null,
   "id": "27e6af3c",
   "metadata": {},
   "outputs": [],
   "source": [
    "# creating DataFrame from dict narray / lists\n",
    "grades = {'Student ID': [899, 341, 276, 975, 114, 583, 899],\n",
    "\t\t'Test 1 Score': [88, 90, 87, 92, 95, None, 88],\n",
    "        'Test 2 Score': [76, 92, 92, 88, None, None, 76],\n",
    "       }\n",
    "\n",
    "grades_df = pd.DataFrame(grades)"
   ]
  },
  {
   "cell_type": "code",
   "execution_count": null,
   "id": "ee27d5fb",
   "metadata": {},
   "outputs": [],
   "source": [
    "grades_df.head()"
   ]
  },
  {
   "cell_type": "code",
   "execution_count": null,
   "id": "6f65b103",
   "metadata": {
    "scrolled": false
   },
   "outputs": [],
   "source": [
    "grades_df.plot.bar(x='Student ID', y=['Test 1 Score', 'Test 2 Score'], edgecolor=\"brown\")"
   ]
  },
  {
   "cell_type": "markdown",
   "id": "1928db59",
   "metadata": {
    "scrolled": true
   },
   "source": [
    "## NumPy and Mathplotlib"
   ]
  },
  {
   "cell_type": "code",
   "execution_count": null,
   "id": "a08f11bd",
   "metadata": {},
   "outputs": [],
   "source": [
    "price_array = np.array([7.99, 7.49, 8.25, 8.87, 9.01])\n",
    "year_array = np.array([2018, 2019, 2020, 2021, 2022])\n",
    "\n",
    "plt.plot(year_array, price_array)\n",
    " \n",
    "\n",
    "#save your chart, by default it goes to the same folder as the python notebook\n",
    "#Otherwise you may select a filepath\n",
    "plt.savefig('PriceByYear.png')"
   ]
  },
  {
   "cell_type": "markdown",
   "id": "400c2966",
   "metadata": {},
   "source": [
    "## Rendering Multiple Charts"
   ]
  },
  {
   "cell_type": "code",
   "execution_count": null,
   "id": "cefd6a55",
   "metadata": {},
   "outputs": [],
   "source": [
    "#print(np.random.rand(10))"
   ]
  },
  {
   "cell_type": "code",
   "execution_count": null,
   "id": "66c2569e",
   "metadata": {},
   "outputs": [],
   "source": [
    "#Use for sizing\n",
    "#plt.subplots(figsize=(15,3))\n",
    "\n",
    "#plot 1:\n",
    "plot1 = np.array(np.random.rand(10))\n",
    "# Arguments for subplot (num of rows, num of columns, placement of current plot)\n",
    "plt.subplot(2, 2, 1)\n",
    "plt.plot(plot1)\n",
    "\n",
    "#plot 2:\n",
    "plot2 = np.array(np.random.rand(10))\n",
    "plt.subplot(2, 2, 2)\n",
    "plt.plot(plot2)\n",
    "\n",
    "#plot 3\n",
    "plot3 = np.array(np.random.rand(10))\n",
    "plt.subplot(2, 2, 3)\n",
    "plt.plot(plot3)\n",
    "\n",
    "plt.show()"
   ]
  },
  {
   "cell_type": "markdown",
   "id": "d1cc0456",
   "metadata": {},
   "source": [
    "## Customizing Charts\n",
    "Custom Colors in Mathplotlib = https://matplotlib.org/stable/gallery/color/named_colors.html"
   ]
  },
  {
   "cell_type": "code",
   "execution_count": null,
   "id": "2e92043d",
   "metadata": {
    "scrolled": false
   },
   "outputs": [],
   "source": [
    "#specify marker types\n",
    "plt.scatter(year, price, marker='*', c='mediumorchid', s=150)\n",
    "plt.title(\"Price by Year Scatter Chart\")\n",
    "plt.xlabel(\"Year\")\n",
    "plt.ylabel(\"Price\")"
   ]
  },
  {
   "cell_type": "code",
   "execution_count": null,
   "id": "d1596443",
   "metadata": {},
   "outputs": [],
   "source": [
    "header_font = {'fontname':'Comic Sans MS'}\n",
    "\n",
    "# Viz 1 - Pie Chart - Trainings Completed & OverDue \n",
    "pie_data = np.array([10, 20], dtype=np.double) \n",
    "\n",
    "plt.title(\"Trainings\", fontdict= header_font) \n",
    "pie_labels = [\"Complete\", \"Overdue\"] \n",
    "plt.pie(pie_data, labels = pie_labels, wedgeprops = {\"edgecolor\" : \"black\",'linewidth': 2}) \n",
    "plt.legend(bbox_to_anchor=(0,1))  #Move the legend\n",
    "plt.savefig('PieChart1.png', bbox_inches=\"tight\") \n",
    "#plt.clf() #Clear so that the settings dont impact the next chart \n",
    "plt.show() "
   ]
  },
  {
   "cell_type": "code",
   "execution_count": null,
   "id": "34475aac",
   "metadata": {},
   "outputs": [],
   "source": [
    "# Viz 2 Passed / Failed Phishing Tests \n",
    "\n",
    "bar_chartl = {'Apples':10, 'Bananas': 15, 'Cucumbers': 20, 'Dragonfruit': 30} \n",
    "\n",
    "metrics = list(bar_chartl.keys()) \n",
    "values = list(bar_chartl.values()) \n",
    "\n",
    "fig1 = plt.figure() \n",
    "plt.bar(metrics, values, color='gold')      \n",
    "plt.title('Bar Chart', fontdict= header_font) \n",
    "plt.gcf().autofmt_xdate() #rotate x axis labels \n",
    "plt.gcf().subplots_adjust(bottom=0.3) #use to adjust the bottom of the figure if the x-axis labels are cut off\n",
    "plt.savefig('barchart1.png') \n",
    "plt.show() "
   ]
  },
  {
   "cell_type": "markdown",
   "id": "1952c879",
   "metadata": {},
   "source": [
    "## Today's Readings\n",
    "\n",
    "- https://www.dataquest.io/blog/how-to-plot-a-bar-graph-matplotlib/\n",
    "- https://towardsdatascience.com/what-are-the-plt-and-ax-in-matplotlib-exactly-d2cf4bf164a9 "
   ]
  }
 ],
 "metadata": {
  "colab": {
   "provenance": []
  },
  "kernelspec": {
   "display_name": "Python 3 (ipykernel)",
   "language": "python",
   "name": "python3"
  },
  "language_info": {
   "codemirror_mode": {
    "name": "ipython",
    "version": 3
   },
   "file_extension": ".py",
   "mimetype": "text/x-python",
   "name": "python",
   "nbconvert_exporter": "python",
   "pygments_lexer": "ipython3",
   "version": "3.9.13"
  }
 },
 "nbformat": 4,
 "nbformat_minor": 5
}
