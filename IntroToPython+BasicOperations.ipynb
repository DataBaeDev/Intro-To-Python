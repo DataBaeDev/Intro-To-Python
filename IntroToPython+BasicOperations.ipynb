{
 "cells": [
  {
   "cell_type": "markdown",
   "metadata": {
    "id": "7446797e"
   },
   "source": [
    "# Intro to Python + Python Basic Operations"
   ]
  },
  {
   "cell_type": "markdown",
   "metadata": {
    "id": "d8d6a0ae"
   },
   "source": [
    "## Today's Reading\n",
    "1) https://www.w3schools.com/python/python_intro.asp <br>\n",
    "2) https://www.tutorialspoint.com/python/python_data_types.htm <br>\n",
    "3) https://www.tutorialspoint.com/python/python_operators.htm - Skip the bitwise operators <br>"
   ]
  },
  {
   "cell_type": "markdown",
   "metadata": {
    "id": "858a9509"
   },
   "source": [
    "## Notes on Jupyter Notebooks\n",
    "\n",
    "Markdown is used for annotation - https://www.writethedocs.org/guide/writing/markdown/ <br>\n",
    "Python is entered and run in one or more cells"
   ]
  },
  {
   "cell_type": "markdown",
   "metadata": {
    "id": "438bf54c"
   },
   "source": [
    "## Notes on Python\n",
    "\n",
    "- Capitalization matters!\n",
    "- Proper use of spacing and tabs is important in Python!\n",
    "- You can use line breaks to space out your code without impacting the results\n",
    "- Use # to start comments"
   ]
  },
  {
   "cell_type": "markdown",
   "metadata": {
    "id": "41774a36"
   },
   "source": [
    "## Python Variables"
   ]
  },
  {
   "cell_type": "code",
   "execution_count": null,
   "metadata": {
    "id": "6152724b",
    "outputId": "fffb1dba-af09-4fd2-a9c4-ca4ffed1d68c"
   },
   "outputs": [],
   "source": [
    "#Variables -Give data to the computer for processing. A variable is created the moment you first assign a value to it\n",
    "\n",
    "first_name = 'Jane'\n",
    "last_name = 'Doe'\n",
    "age = 77\n",
    "precise_age = 77.4\n",
    "\n",
    "print(first_name+ ' '+ last_name) #one way to concatenate\n",
    "print(age)"
   ]
  },
  {
   "cell_type": "code",
   "execution_count": null,
   "metadata": {
    "id": "75c91c91",
    "outputId": "4fada713-708a-49e0-a5c3-574307b250ff"
   },
   "outputs": [],
   "source": [
    "# Variables can be reassigned\n",
    "print(first_name)\n",
    "\n",
    "new_name = 'Jamie'\n",
    "name = new_name\n",
    "print('The new name is ' + name + '.')"
   ]
  },
  {
   "cell_type": "code",
   "execution_count": null,
   "metadata": {
    "id": "b73d6ee7",
    "outputId": "a175c86f-08ea-41ce-aadc-e98a2e547337"
   },
   "outputs": [],
   "source": [
    "#Multiple variables- Assigning values to more than one variable at a time.\n",
    "\n",
    "child_age,teenage_age, adult_age = 4,15,30\n",
    "\n",
    "print(child_age, teenage_age, adult_age)"
   ]
  },
  {
   "cell_type": "code",
   "execution_count": null,
   "metadata": {
    "id": "19ee1295",
    "outputId": "e2e679a0-dfc3-400e-f83d-e949b896fe95"
   },
   "outputs": [],
   "source": [
    "#Unpacking variables\n",
    "name_list = ['Alice', 'Alvin', 'Alicia']\n",
    "\n",
    "name1, name2, name3 = name_list\n",
    "print(name2)"
   ]
  },
  {
   "cell_type": "code",
   "execution_count": null,
   "metadata": {
    "id": "de523606",
    "outputId": "a2168cf6-781a-48b9-96ed-fd377f94d2b7",
    "scrolled": true
   },
   "outputs": [],
   "source": [
    "#I/O - Input and output tasks or operations such as user input or print output\n",
    "# Inputs are automatically set to the \"string\" type\n",
    "\n",
    "hourly_rate = input('Enter your hourly rate:  ')\n",
    "num_of_hours = input('Enter the number of hours worked:  ')"
   ]
  },
  {
   "cell_type": "code",
   "execution_count": null,
   "metadata": {
    "id": "a4e534cc",
    "outputId": "10654d7f-3b63-4a70-cc65-4b0f1223d14d"
   },
   "outputs": [],
   "source": [
    "print(hourly_rate)"
   ]
  },
  {
   "cell_type": "markdown",
   "metadata": {
    "id": "ffeb0316"
   },
   "source": [
    "## Python Data Types"
   ]
  },
  {
   "cell_type": "code",
   "execution_count": null,
   "metadata": {
    "id": "8bbd4055",
    "outputId": "4b32bdee-e8ee-47e7-d965-109b9a12adc1",
    "scrolled": true
   },
   "outputs": [],
   "source": [
    "print(type(name))\n",
    "print(type(adult_age))"
   ]
  },
  {
   "cell_type": "code",
   "execution_count": null,
   "metadata": {
    "id": "e0333191",
    "outputId": "c0b4a9b6-1df0-4587-db74-6d458edfeb0b"
   },
   "outputs": [],
   "source": [
    "print(type('abcd'))"
   ]
  },
  {
   "cell_type": "code",
   "execution_count": null,
   "metadata": {
    "id": "c16963b5",
    "outputId": "a0b061aa-a4fb-4f61-8758-d2f186224e2f"
   },
   "outputs": [],
   "source": [
    "# Inputs are automatically set to the \"string\" type\n",
    "print(type(hourly_rate))\n",
    "print(hourly_rate + num_of_hours)"
   ]
  },
  {
   "cell_type": "code",
   "execution_count": null,
   "metadata": {
    "id": "e2cd227c",
    "outputId": "c8f602ad-559a-41d4-8568-5078742813e8"
   },
   "outputs": [],
   "source": [
    "#reassign the variables as integers\n",
    "hourly_rate = float(hourly_rate)\n",
    "num_of_hours = int(num_of_hours)\n",
    "\n",
    "print(hourly_rate * num_of_hours)"
   ]
  },
  {
   "cell_type": "markdown",
   "metadata": {
    "id": "96808ff9"
   },
   "source": [
    "### Lists"
   ]
  },
  {
   "cell_type": "code",
   "execution_count": null,
   "metadata": {
    "id": "012ae656",
    "outputId": "1701335f-5c6f-4cdd-b30c-9594bb769644"
   },
   "outputs": [],
   "source": [
    "#List -An ordered sequence of items surrounded by square brackets [ ]\n",
    "#Lists can contain multiple data types\n",
    "\n",
    "num_List = [5,10,15,20,25]\n",
    "print(num_List)"
   ]
  },
  {
   "cell_type": "code",
   "execution_count": null,
   "metadata": {
    "id": "32a8e75e",
    "outputId": "62991f30-5c8b-49c4-85aa-079229bf8573"
   },
   "outputs": [],
   "source": [
    "#Each item in a list has an index number, indexing starts at zero\n",
    "#Use the following notation to reference a specific item in a list\n",
    "\n",
    "#Print number 15 from num_List\n",
    "print(num_List[2])"
   ]
  },
  {
   "cell_type": "markdown",
   "metadata": {
    "id": "3d623b2a"
   },
   "source": [
    "Lists have their own built-in functions"
   ]
  },
  {
   "cell_type": "code",
   "execution_count": null,
   "metadata": {
    "id": "9f8d6150",
    "outputId": "0a399c78-6cb0-4daa-c941-11bca35af35d"
   },
   "outputs": [],
   "source": [
    "#print the length of the list\n",
    "print(len(num_List))"
   ]
  },
  {
   "cell_type": "code",
   "execution_count": null,
   "metadata": {
    "id": "28e881fb",
    "outputId": "ecb42074-cb70-4190-b6d5-a60c6eb580b1"
   },
   "outputs": [],
   "source": [
    "#Print the minimum and maxim\n",
    "print(min(num_List))\n",
    "print(max(num_List))"
   ]
  },
  {
   "cell_type": "markdown",
   "metadata": {
    "id": "acbec418"
   },
   "source": [
    "### Dictionaries"
   ]
  },
  {
   "cell_type": "code",
   "execution_count": null,
   "metadata": {
    "id": "bc636e84",
    "outputId": "f030fe46-ee21-43cf-a7fa-6391cd96a5e6",
    "scrolled": true
   },
   "outputs": [],
   "source": [
    "#Dictionary - An unordered collection of key-value pairs.\n",
    "dict_1 ={'fname':'Will',\n",
    "         'lname':'Williamson'}\n",
    "\n",
    "print(dict_1)"
   ]
  },
  {
   "cell_type": "code",
   "execution_count": null,
   "metadata": {
    "id": "cd832112",
    "outputId": "d9d707d6-8aa0-41f8-9524-57661898cd3c"
   },
   "outputs": [],
   "source": [
    "#print the value for one key\n",
    "print(dict_1['fname'])"
   ]
  },
  {
   "cell_type": "code",
   "execution_count": null,
   "metadata": {
    "id": "edfee027",
    "outputId": "70df9ac6-9f6c-49cb-ad45-621d82498555"
   },
   "outputs": [],
   "source": [
    "#print all of the keys\n",
    "print(dict_1.keys())"
   ]
  },
  {
   "cell_type": "code",
   "execution_count": null,
   "metadata": {
    "id": "c603cdc2",
    "outputId": "b58f8024-b56e-464c-8566-5db9ee116eb4"
   },
   "outputs": [],
   "source": [
    "#print all of the values\n",
    "print(dict_1.values())"
   ]
  },
  {
   "cell_type": "markdown",
   "metadata": {
    "id": "bfdbefa4"
   },
   "source": [
    "### Tuples"
   ]
  },
  {
   "cell_type": "code",
   "execution_count": null,
   "metadata": {
    "id": "119afb2e",
    "outputId": "1673a376-09ee-4c1c-f4fc-c1139fa315c4"
   },
   "outputs": [],
   "source": [
    "#Tuple- An ordered sequence of items, same as lists. The only difference is that tuples are immutable.\n",
    "#Once created it cannot be modified.\n",
    "\n",
    "tuple_1 = (5, 'program', 1+3, 'title')\n",
    "print(tuple_1)"
   ]
  },
  {
   "cell_type": "code",
   "execution_count": null,
   "metadata": {
    "id": "ab44a014",
    "outputId": "7b1be621-b9d1-43b6-e7ef-2276248ab348"
   },
   "outputs": [],
   "source": [
    "#Print a range of items in a tuple\n",
    "#print items indexed from 2 until the end\n",
    "print(tuple_1[2:])"
   ]
  },
  {
   "cell_type": "markdown",
   "metadata": {
    "id": "f5ad2675"
   },
   "source": [
    "### Sets"
   ]
  },
  {
   "cell_type": "code",
   "execution_count": null,
   "metadata": {
    "id": "c18b8b07",
    "outputId": "c77155ff-5db3-4d82-c689-3ef1c09bba53"
   },
   "outputs": [],
   "source": [
    "#Items are not ordered.\n",
    "y = {5,2,3,1}\n",
    "\n",
    "print(len(y))\n",
    "print(min(y)+ max(y))"
   ]
  },
  {
   "cell_type": "code",
   "execution_count": null,
   "metadata": {
    "colab": {
     "base_uri": "https://localhost:8080/"
    },
    "id": "49480bee",
    "outputId": "75b19a14-b13e-493d-b337-100ff39ff283"
   },
   "outputs": [],
   "source": [
    "#you can convert a list to a set\n",
    "fruits = ['apples', 'oranges', 'pears', 'apples']\n",
    "\n",
    "fruit_set = set(fruits)\n",
    "print(fruit_set)"
   ]
  },
  {
   "cell_type": "code",
   "execution_count": null,
   "metadata": {
    "id": "619ebf00",
    "outputId": "c9724319-d468-4c7c-a8e1-dfafcc099bf2"
   },
   "outputs": [],
   "source": [
    "#Index- A method that returns the index position of an item in a list or a character or a range of characters in a\n",
    "#string. It accepts one argument: the item you want to identify. You can also manually identify the index using brackets.\n",
    "idx = fruits.index('pears')\n",
    "print(idx)"
   ]
  },
  {
   "cell_type": "markdown",
   "metadata": {
    "id": "eb3f951e"
   },
   "source": [
    "## Python Operators"
   ]
  },
  {
   "cell_type": "markdown",
   "metadata": {
    "id": "620545d9"
   },
   "source": [
    "Mathematical Operators"
   ]
  },
  {
   "cell_type": "code",
   "execution_count": null,
   "metadata": {
    "id": "2d2db396"
   },
   "outputs": [],
   "source": [
    "a = 15\n",
    "b = 3"
   ]
  },
  {
   "cell_type": "code",
   "execution_count": null,
   "metadata": {
    "id": "81a44359",
    "outputId": "a641d03c-2728-482f-f812-29a44e590c75"
   },
   "outputs": [],
   "source": [
    "print(a+b) #addition"
   ]
  },
  {
   "cell_type": "code",
   "execution_count": null,
   "metadata": {
    "id": "04ac53b5",
    "outputId": "b65e962f-339c-4460-ac59-b52fb7595df4"
   },
   "outputs": [],
   "source": [
    "print(a-b) #subtraction"
   ]
  },
  {
   "cell_type": "code",
   "execution_count": null,
   "metadata": {
    "id": "c9f4dbd4",
    "outputId": "d432ac46-23f0-43cb-d8e1-4be68b2eaf43"
   },
   "outputs": [],
   "source": [
    "print(a*b) #multiplication"
   ]
  },
  {
   "cell_type": "code",
   "execution_count": null,
   "metadata": {
    "id": "15bffbe8",
    "outputId": "03e13ac6-a1a5-4e81-f086-13f6a0340940"
   },
   "outputs": [],
   "source": [
    "print(a/b) #division"
   ]
  },
  {
   "cell_type": "code",
   "execution_count": null,
   "metadata": {
    "id": "ac3632e2",
    "outputId": "8a0af454-e078-40ad-ef8a-32f32791e197"
   },
   "outputs": [],
   "source": [
    "print(a%b) # modulus - remainder after division\n",
    "print(13%7)"
   ]
  },
  {
   "cell_type": "code",
   "execution_count": null,
   "metadata": {
    "id": "9c893039",
    "outputId": "7f8124a2-85ed-4dde-b2ab-5f464bd322d0"
   },
   "outputs": [],
   "source": [
    "print(b**2) #exponentiation"
   ]
  },
  {
   "cell_type": "code",
   "execution_count": null,
   "metadata": {
    "id": "672ee8fd",
    "outputId": "904af68c-8412-45ff-9a59-e37e701002b0"
   },
   "outputs": [],
   "source": [
    "print(10//4) #floor division (rounds down)"
   ]
  },
  {
   "cell_type": "markdown",
   "metadata": {},
   "source": [
    "## Python Help"
   ]
  },
  {
   "cell_type": "code",
   "execution_count": null,
   "metadata": {
    "scrolled": false
   },
   "outputs": [],
   "source": [
    "help()"
   ]
  },
  {
   "cell_type": "markdown",
   "metadata": {
    "id": "8c9da6f9"
   },
   "source": [
    "## Practice\n",
    "1) https://www.w3schools.com/python/python_variables.asp <br>\n",
    "2) https://www.w3schools.com/python/python_operators.asp"
   ]
  }
 ],
 "metadata": {
  "colab": {
   "provenance": []
  },
  "kernelspec": {
   "display_name": "Python 3",
   "language": "python",
   "name": "python3"
  },
  "language_info": {
   "codemirror_mode": {
    "name": "ipython",
    "version": 3
   },
   "file_extension": ".py",
   "mimetype": "text/x-python",
   "name": "python",
   "nbconvert_exporter": "python",
   "pygments_lexer": "ipython3",
   "version": "3.8.5"
  }
 },
 "nbformat": 4,
 "nbformat_minor": 5
}
