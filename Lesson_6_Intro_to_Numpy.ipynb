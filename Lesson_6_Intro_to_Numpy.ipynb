{
 "cells": [
  {
   "cell_type": "markdown",
   "id": "7446797e",
   "metadata": {},
   "source": [
    "# Intro to NumPy"
   ]
  },
  {
   "cell_type": "markdown",
   "id": "649e2285",
   "metadata": {},
   "source": [
    "## Python Review\n",
    "1) Fill in the blanks to produce the following output:  29"
   ]
  },
  {
   "cell_type": "code",
   "execution_count": null,
   "id": "6689a39d",
   "metadata": {},
   "outputs": [],
   "source": [
    "x= [16, 2, 12, 9, 15, 17, 10]\n",
    "print(x[__] + x[__])"
   ]
  },
  {
   "cell_type": "markdown",
   "id": "bb959e05",
   "metadata": {},
   "source": [
    "2) Ask your user to input a number and notify them if the number is even or odd."
   ]
  },
  {
   "cell_type": "code",
   "execution_count": null,
   "id": "fafb08c3",
   "metadata": {},
   "outputs": [],
   "source": []
  },
  {
   "cell_type": "markdown",
   "id": "1e91660d",
   "metadata": {},
   "source": [
    "3) Write a program to print the multiplication table of a given number. For example, if the number is 2, the output should be: <br><br>\n",
    "2<br>\n",
    "4<br>\n",
    "6<br>\n",
    "8<br>\n",
    "10<br>\n",
    "12<br>\n",
    "14<br>\n",
    "16<br>\n",
    "18<br>\n",
    "20<br>"
   ]
  },
  {
   "cell_type": "markdown",
   "id": "fb5e1a84",
   "metadata": {},
   "source": [
    "4) Import a csv dataset from https://www.kaggle.com/"
   ]
  },
  {
   "cell_type": "code",
   "execution_count": null,
   "id": "fd432b66",
   "metadata": {},
   "outputs": [],
   "source": [
    "df = pd.read_csv(r\"/filepath\")"
   ]
  },
  {
   "cell_type": "markdown",
   "id": "8cc2a3ea",
   "metadata": {},
   "source": [
    "5) Perform an exploratory data analysis (EDA) of this csv file. What are some ways to do this?<br>\n",
    "    - How many rows and columns are in this data?<br>\n",
    "    - What are the column names/headers?<br>\n",
    "    - Are there any nulls? If there are, how would you drop the nulls?<br>"
   ]
  },
  {
   "cell_type": "code",
   "execution_count": null,
   "id": "d46e6b75",
   "metadata": {},
   "outputs": [],
   "source": []
  },
  {
   "cell_type": "markdown",
   "id": "c3620e1c",
   "metadata": {},
   "source": [
    "## Import Libraries & Datasets\n",
    "NumPy documentation can be found here: https://numpy.org/doc/stable/user/whatisnumpy.html"
   ]
  },
  {
   "cell_type": "code",
   "execution_count": null,
   "id": "d2c91394",
   "metadata": {},
   "outputs": [],
   "source": [
    "import numpy as np"
   ]
  },
  {
   "cell_type": "markdown",
   "id": "1b8f5801",
   "metadata": {},
   "source": [
    "## NumPy arrays"
   ]
  },
  {
   "cell_type": "markdown",
   "id": "8dd1d307",
   "metadata": {},
   "source": [
    "**Note:** NumPy supports a vast amount of numerical data types; more detail can be found here: https://numpy.org/doc/stable/user/basics.types.html <br><br>\n",
    "You cannot mix datatypes in a single array!"
   ]
  },
  {
   "cell_type": "code",
   "execution_count": null,
   "id": "61f4d28c",
   "metadata": {},
   "outputs": [],
   "source": [
    "price_array = np.array([44, 13, 87, 31])\n",
    "\n",
    "item_array = np.array(['blouse', 'socks', 'pants', 'hat'])"
   ]
  },
  {
   "cell_type": "code",
   "execution_count": null,
   "id": "8067b193",
   "metadata": {},
   "outputs": [],
   "source": [
    "print(type(price_array))"
   ]
  },
  {
   "cell_type": "code",
   "execution_count": null,
   "id": "88139428",
   "metadata": {},
   "outputs": [],
   "source": [
    "print(\"The data type for the price array is\", price_array.dtype)\n",
    "\n",
    "print(\"The data type for the item array is\", item_array.dtype)"
   ]
  },
  {
   "cell_type": "code",
   "execution_count": null,
   "id": "e4d20162",
   "metadata": {},
   "outputs": [],
   "source": [
    "new_price_array = np.array([44.00, 13.01, 87.3, 31.22], dtype='i')\n",
    "print(new_price_array.dtype)"
   ]
  },
  {
   "cell_type": "markdown",
   "id": "f8adc6fa",
   "metadata": {},
   "source": [
    "## Array Shapes"
   ]
  },
  {
   "cell_type": "code",
   "execution_count": null,
   "id": "4b2f04b8",
   "metadata": {},
   "outputs": [],
   "source": [
    "_0d_array = np.array(88)"
   ]
  },
  {
   "cell_type": "code",
   "execution_count": null,
   "id": "54e9b0d0",
   "metadata": {},
   "outputs": [],
   "source": [
    "#multidimentional array must have the same number of items\n",
    "\n",
    "_2d_array = np.array([[44, 13, 87, 31], [9, 19, 29, 39]])\n",
    "\n",
    "_3d_array = np.array([[[4.4, 1.3, 8.7], [9.2, 1.9, 2.9]], [[9.9, 8.8, 7.7], [1.1, 2.2, 3.3]]])\n"
   ]
  },
  {
   "cell_type": "code",
   "execution_count": null,
   "id": "65d71d48",
   "metadata": {},
   "outputs": [],
   "source": [
    "#check the number of dimensions in each array\n",
    "print(\"number of dimensions in _0d_array\", _0d_array.ndim)\n",
    "print(\"number of dimensions in _2d_array\", _2d_array.ndim)\n",
    "print(\"number of dimensions in _3d_array\", _3d_array.ndim)\n",
    "\n",
    "print(\"array shape for _3d_array\",_3d_array.shape)"
   ]
  },
  {
   "cell_type": "markdown",
   "id": "f0435e74",
   "metadata": {},
   "source": [
    "## Array Indexing"
   ]
  },
  {
   "cell_type": "code",
   "execution_count": null,
   "id": "2db9b2de",
   "metadata": {},
   "outputs": [],
   "source": [
    "## You've seen this before\n",
    "\n",
    "print(\"The second item in the 'price array' is: \", price_array[1])\n",
    "\n",
    "#Don't forget about negative indexing\n",
    "\n",
    "print(\"The last item in the 'item array' is\", item_array[-1])"
   ]
  },
  {
   "cell_type": "code",
   "execution_count": null,
   "id": "bde9d401",
   "metadata": {},
   "outputs": [],
   "source": [
    "#Multidimensional array indexing\n",
    "\n",
    "print(\"The last item in the first array of '_2d_array' is\", _2d_array[0, -1])\n",
    "\n",
    "print(\"3D indexing, narrowing down to the 2nd item of each dimension: \", _3d_array[1, 1, 1])\n"
   ]
  },
  {
   "cell_type": "markdown",
   "id": "4dc8a0c4",
   "metadata": {},
   "source": [
    "## Array Slicing"
   ]
  },
  {
   "cell_type": "code",
   "execution_count": null,
   "id": "bb8fbef0",
   "metadata": {},
   "outputs": [],
   "source": [
    "#\"Show the second item in the price array and everything else that comes after it\n",
    "print(price_array[1:])"
   ]
  },
  {
   "cell_type": "code",
   "execution_count": null,
   "id": "5f3b7c70",
   "metadata": {
    "scrolled": false
   },
   "outputs": [],
   "source": [
    "#\"Show the first two items in an array\n",
    "print(item_array[:2])"
   ]
  },
  {
   "cell_type": "code",
   "execution_count": null,
   "id": "249beed8",
   "metadata": {},
   "outputs": [],
   "source": [
    "#\"Show the last two items in an array using negative indexing\n",
    "print(item_array[-2:])"
   ]
  },
  {
   "cell_type": "code",
   "execution_count": null,
   "id": "d913efba",
   "metadata": {},
   "outputs": [],
   "source": [
    "#multidimensional array slicing\n",
    "print(\"Everything in the first dimension of the 2d array\", _2d_array[0, :])"
   ]
  }
 ],
 "metadata": {
  "colab": {
   "provenance": []
  },
  "kernelspec": {
   "display_name": "Python 3 (ipykernel)",
   "language": "python",
   "name": "python3"
  },
  "language_info": {
   "codemirror_mode": {
    "name": "ipython",
    "version": 3
   },
   "file_extension": ".py",
   "mimetype": "text/x-python",
   "name": "python",
   "nbconvert_exporter": "python",
   "pygments_lexer": "ipython3",
   "version": "3.9.13"
  }
 },
 "nbformat": 4,
 "nbformat_minor": 5
}
