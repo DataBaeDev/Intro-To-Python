{
 "cells": [
  {
   "cell_type": "markdown",
   "id": "7446797e",
   "metadata": {},
   "source": [
    "# Seaborn Visualizations"
   ]
  },
  {
   "cell_type": "markdown",
   "id": "c828bf5d",
   "metadata": {},
   "source": [
    "## Import Libraries\n",
    "Seaborn is a library for making statistical graphics in Python. It builds on top of matplotlib and integrates closely with pandas data structures."
   ]
  },
  {
   "cell_type": "code",
   "execution_count": null,
   "id": "7ac87a57",
   "metadata": {},
   "outputs": [],
   "source": [
    "import seaborn as sns"
   ]
  },
  {
   "cell_type": "markdown",
   "id": "e9b6da24",
   "metadata": {},
   "source": [
    "## Distributions & Standard Deviation\n",
    "https://www.youtube.com/watch?v=rzFX5NWojp0 <br>\n",
    "https://www.investopedia.com/terms/s/standarddeviation.asp"
   ]
  },
  {
   "cell_type": "markdown",
   "id": "561019f8",
   "metadata": {},
   "source": [
    "## Seaborn Documentation & Built-in Datasets\n",
    "https://seaborn.pydata.org/tutorial/introduction.html"
   ]
  },
  {
   "cell_type": "code",
   "execution_count": null,
   "id": "36876cf9",
   "metadata": {
    "scrolled": false
   },
   "outputs": [],
   "source": [
    "sns.get_dataset_names()"
   ]
  },
  {
   "cell_type": "code",
   "execution_count": null,
   "id": "f0b4f9ce",
   "metadata": {},
   "outputs": [],
   "source": [
    "mpg_data = sns.load_dataset(\"mpg\")"
   ]
  },
  {
   "cell_type": "code",
   "execution_count": null,
   "id": "d9e77344",
   "metadata": {
    "scrolled": true
   },
   "outputs": [],
   "source": [
    "mpg_data.shape"
   ]
  },
  {
   "cell_type": "code",
   "execution_count": null,
   "id": "7daf9727",
   "metadata": {},
   "outputs": [],
   "source": [
    "mpg_data.head()"
   ]
  },
  {
   "cell_type": "code",
   "execution_count": null,
   "id": "b4e32d0e",
   "metadata": {},
   "outputs": [],
   "source": [
    "diamond_data = sns.load_dataset(\"diamonds\")"
   ]
  },
  {
   "cell_type": "code",
   "execution_count": null,
   "id": "aa142cdf",
   "metadata": {
    "scrolled": false
   },
   "outputs": [],
   "source": [
    "diamond_data.head()"
   ]
  },
  {
   "cell_type": "code",
   "execution_count": null,
   "id": "b97e5aa9",
   "metadata": {},
   "outputs": [],
   "source": [
    "diamond_data.shape"
   ]
  },
  {
   "cell_type": "markdown",
   "id": "2a50d81f",
   "metadata": {},
   "source": [
    "## Basic Seaborn Plots"
   ]
  },
  {
   "cell_type": "code",
   "execution_count": null,
   "id": "33014c3b",
   "metadata": {},
   "outputs": [],
   "source": [
    "sns.distplot(diamond_data['price'])"
   ]
  },
  {
   "cell_type": "code",
   "execution_count": null,
   "id": "aa3e4a74",
   "metadata": {},
   "outputs": [],
   "source": [
    "sns.displot(diamond_data['price'])"
   ]
  },
  {
   "cell_type": "code",
   "execution_count": null,
   "id": "55537c76",
   "metadata": {
    "scrolled": false
   },
   "outputs": [],
   "source": [
    "sns.histplot(data=mpg_data, x='horsepower',hue=\"cylinders\")"
   ]
  },
  {
   "cell_type": "code",
   "execution_count": null,
   "id": "62eb3fcf",
   "metadata": {},
   "outputs": [],
   "source": [
    "#kernel density estimation plot\n",
    "sns.kdeplot(data=mpg_data, x='horsepower',hue=\"cylinders\")"
   ]
  },
  {
   "cell_type": "markdown",
   "id": "eeb3d6b3",
   "metadata": {},
   "source": [
    "## Scatterplots, Jointplots & Pairplots"
   ]
  },
  {
   "cell_type": "code",
   "execution_count": null,
   "id": "40a39f62",
   "metadata": {
    "scrolled": false
   },
   "outputs": [],
   "source": [
    "sns.scatterplot(data=diamond_data, x='price', y='carat', hue='cut')\n",
    "#is this a good use of a scatterplot? why or why not?"
   ]
  },
  {
   "cell_type": "code",
   "execution_count": null,
   "id": "1022faf9",
   "metadata": {
    "scrolled": false
   },
   "outputs": [],
   "source": [
    "sns.scatterplot(data=mpg_data, x='horsepower', y='mpg', hue='origin')\n"
   ]
  },
  {
   "cell_type": "code",
   "execution_count": null,
   "id": "b8b09042",
   "metadata": {
    "scrolled": false
   },
   "outputs": [],
   "source": [
    "sns.scatterplot(data=mpg_data, x=\"horsepower\", y=\"mpg\", hue=\"origin\", size=\"cylinders\")\n",
    "\n",
    "#How do we interpret this data?\n",
    "#What are some of the pros & cons of adding the size parameter?b"
   ]
  },
  {
   "cell_type": "code",
   "execution_count": null,
   "id": "db12370d",
   "metadata": {
    "scrolled": false
   },
   "outputs": [],
   "source": [
    "sns_jp = sns.jointplot(x=\"horsepower\", y=\"mpg\", data=mpg_data, kind=\"reg\", color=\"green\", height=8)"
   ]
  },
  {
   "cell_type": "code",
   "execution_count": null,
   "id": "f36f5702",
   "metadata": {},
   "outputs": [],
   "source": [
    "sns_jp.savefig(\"JointPlot1.png\")"
   ]
  },
  {
   "cell_type": "code",
   "execution_count": null,
   "id": "6d7a1751",
   "metadata": {
    "scrolled": false
   },
   "outputs": [],
   "source": [
    "#load a new dataset\n",
    "taxi_data = sns.load_dataset(\"taxis\")"
   ]
  },
  {
   "cell_type": "code",
   "execution_count": null,
   "id": "d65c7ed4",
   "metadata": {},
   "outputs": [],
   "source": [
    "taxi_data.head()"
   ]
  },
  {
   "cell_type": "code",
   "execution_count": null,
   "id": "fa417b64",
   "metadata": {},
   "outputs": [],
   "source": [
    "taxi_data.shape"
   ]
  },
  {
   "cell_type": "code",
   "execution_count": null,
   "id": "7fe7347a",
   "metadata": {},
   "outputs": [],
   "source": [
    "sns.pairplot(taxi_data, vars = taxi_data.columns[3:6], hue =\"passengers\")"
   ]
  },
  {
   "cell_type": "markdown",
   "id": "e4cbccf5",
   "metadata": {},
   "source": [
    "## Additional Plots"
   ]
  },
  {
   "cell_type": "code",
   "execution_count": null,
   "id": "33fa7782",
   "metadata": {
    "scrolled": true
   },
   "outputs": [],
   "source": [
    "penguin_data = sns.load_dataset(\"penguins\")\n",
    "penguin_data.head(20)"
   ]
  },
  {
   "cell_type": "code",
   "execution_count": null,
   "id": "2620cfa7",
   "metadata": {
    "scrolled": false
   },
   "outputs": [],
   "source": [
    "sns.boxplot(x='species', y=\"body_mass_g\", hue=\"sex\", data=penguin_data)"
   ]
  },
  {
   "cell_type": "code",
   "execution_count": null,
   "id": "0832a10e",
   "metadata": {},
   "outputs": [],
   "source": [
    "sns.violinplot(x='species', y=\"bill_length_mm\", hue=\"sex\", data=penguin_data)\n",
    "#the violin plot uses width of the figure to indicate the density of data. "
   ]
  },
  {
   "cell_type": "code",
   "execution_count": null,
   "id": "cd7fe295",
   "metadata": {
    "scrolled": true
   },
   "outputs": [],
   "source": [
    "sns.swarmplot(x='species', y=\"bill_length_mm\", hue=\"sex\", data=penguin_data);"
   ]
  },
  {
   "cell_type": "code",
   "execution_count": null,
   "id": "f9ed530d",
   "metadata": {},
   "outputs": [],
   "source": [
    "penguin_data.shape"
   ]
  },
  {
   "cell_type": "markdown",
   "id": "c060d497",
   "metadata": {},
   "source": [
    "## Heatmaps\n",
    "Seaborn color palettes: https://seaborn.pydata.org/tutorial/color_palettes.html"
   ]
  },
  {
   "cell_type": "code",
   "execution_count": null,
   "id": "5e77b303",
   "metadata": {},
   "outputs": [],
   "source": [
    "penguin_data.corr()"
   ]
  },
  {
   "cell_type": "code",
   "execution_count": null,
   "id": "d327bd1b",
   "metadata": {
    "scrolled": false
   },
   "outputs": [],
   "source": [
    "sns.heatmap(penguin_data.corr(),annot=True, cmap='Spectral');"
   ]
  },
  {
   "cell_type": "code",
   "execution_count": null,
   "id": "6022f784",
   "metadata": {
    "scrolled": false
   },
   "outputs": [],
   "source": [
    "diamond_data.head()"
   ]
  },
  {
   "cell_type": "code",
   "execution_count": null,
   "id": "bcb3404e",
   "metadata": {},
   "outputs": [],
   "source": [
    "diamond_data = diamond_data.drop(columns=['x','y','z'])"
   ]
  },
  {
   "cell_type": "code",
   "execution_count": null,
   "id": "8894e1ed",
   "metadata": {
    "scrolled": true
   },
   "outputs": [],
   "source": [
    "diamond_data.sample(10)"
   ]
  },
  {
   "cell_type": "code",
   "execution_count": null,
   "id": "75b15ecf",
   "metadata": {},
   "outputs": [],
   "source": [
    "diamond_data.head()"
   ]
  },
  {
   "cell_type": "code",
   "execution_count": null,
   "id": "60e7cf08",
   "metadata": {
    "scrolled": true
   },
   "outputs": [],
   "source": [
    "diamond_data.corr()"
   ]
  },
  {
   "cell_type": "code",
   "execution_count": null,
   "id": "f06cde54",
   "metadata": {},
   "outputs": [],
   "source": [
    "sns.heatmap(diamond_data.corr())\n",
    "#notice that our cells don't contain numbers, which makes things more difficult for the users"
   ]
  },
  {
   "cell_type": "code",
   "execution_count": null,
   "id": "7e917d03",
   "metadata": {},
   "outputs": [],
   "source": [
    "sns.heatmap(diamond_data.corr(), annot=True)"
   ]
  }
 ],
 "metadata": {
  "colab": {
   "provenance": []
  },
  "kernelspec": {
   "display_name": "Python 3 (ipykernel)",
   "language": "python",
   "name": "python3"
  },
  "language_info": {
   "codemirror_mode": {
    "name": "ipython",
    "version": 3
   },
   "file_extension": ".py",
   "mimetype": "text/x-python",
   "name": "python",
   "nbconvert_exporter": "python",
   "pygments_lexer": "ipython3",
   "version": "3.9.13"
  }
 },
 "nbformat": 4,
 "nbformat_minor": 5
}
