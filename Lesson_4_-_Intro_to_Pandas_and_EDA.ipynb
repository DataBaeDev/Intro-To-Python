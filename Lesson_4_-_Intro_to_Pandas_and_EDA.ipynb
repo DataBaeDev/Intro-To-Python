{
 "cells": [
  {
   "cell_type": "markdown",
   "id": "7446797e",
   "metadata": {},
   "source": [
    "# Intro to Pandas and Exploratory Data Analysis"
   ]
  },
  {
   "cell_type": "markdown",
   "id": "1e5b4da7",
   "metadata": {},
   "source": [
    "## Importing Pandas"
   ]
  },
  {
   "cell_type": "code",
   "execution_count": null,
   "id": "d0f8c144",
   "metadata": {},
   "outputs": [],
   "source": [
    "#pd is an alias\n",
    "import pandas as pd"
   ]
  },
  {
   "cell_type": "markdown",
   "id": "1afd4afc",
   "metadata": {},
   "source": [
    "## Pandas & Series"
   ]
  },
  {
   "cell_type": "code",
   "execution_count": null,
   "id": "2d6f5f2b",
   "metadata": {},
   "outputs": [],
   "source": [
    "food_list = ['spaghetti', 'burrito', 'eggs benedict', 'cauliflower', 'quinoa']\n",
    "\n",
    "food_series_pd = pd.Series(food_list, index = range(len(food_list))) \n",
    "\n",
    "#How can we make this code \"smarter\"?\n",
    "#hint https://www.w3schools.com/python/ref_func_range.asp"
   ]
  },
  {
   "cell_type": "code",
   "execution_count": null,
   "id": "aacb4e7b",
   "metadata": {
    "scrolled": true
   },
   "outputs": [],
   "source": [
    "print(food_series_pd)"
   ]
  },
  {
   "cell_type": "code",
   "execution_count": null,
   "id": "f7da6141",
   "metadata": {},
   "outputs": [],
   "source": [
    "items_and_prices = {\n",
    "\t'Shirt': 48,\n",
    "\t'Pants': 74,\n",
    "\t'Dress': 98,\n",
    "\t'Socks': 12\n",
    "}\n",
    "\n",
    "price_series = pd.Series(items_and_prices)"
   ]
  },
  {
   "cell_type": "code",
   "execution_count": null,
   "id": "0ade56a7",
   "metadata": {},
   "outputs": [],
   "source": [
    "print(price_series)"
   ]
  },
  {
   "cell_type": "code",
   "execution_count": null,
   "id": "3a245b61",
   "metadata": {},
   "outputs": [],
   "source": [
    "print(price_series.index)\n",
    "#The keys are the index"
   ]
  },
  {
   "cell_type": "markdown",
   "id": "5d416006",
   "metadata": {},
   "source": [
    "## Dataframes"
   ]
  },
  {
   "cell_type": "markdown",
   "id": "319c1f3e",
   "metadata": {},
   "source": [
    "There are many ways to create a new dataframe. Use this link as a reference:<br>\n",
    "https://www.geeksforgeeks.org/different-ways-to-create-pandas-dataframe/"
   ]
  },
  {
   "cell_type": "code",
   "execution_count": null,
   "id": "a9347760",
   "metadata": {},
   "outputs": [],
   "source": [
    "# create a dataframe from scratch\n",
    "\n",
    "programming_lang = ['Python', 'JavaScript', 'PHP', 'Java', 'HTML', 'SQL']\n",
    "df = pd.DataFrame(programming_lang, columns=['Programming Languages'])\n",
    "\n",
    "print(df)\n"
   ]
  },
  {
   "cell_type": "code",
   "execution_count": null,
   "id": "22e42842",
   "metadata": {},
   "outputs": [],
   "source": [
    "# creating DataFrame from dict narray / lists\n",
    "grades = {'Student ID': [899, 341, 276, 975, 114],\n",
    "\t\t'Test 1 Score': [88, 90, 87, 92, 95],\n",
    "        'Test 2 Score': [76, 92, 92, 88, 95],\n",
    "       }\n",
    "\n",
    "grades_df = pd.DataFrame(grades)\n",
    "print(grades_df)"
   ]
  },
  {
   "cell_type": "code",
   "execution_count": null,
   "id": "1e9d19e8",
   "metadata": {},
   "outputs": [],
   "source": [
    "# Change the index to Student ID\n",
    "\n",
    "grades_df = grades_df.set_index('Student ID')\n",
    "print(grades_df)"
   ]
  },
  {
   "cell_type": "markdown",
   "id": "4875f820",
   "metadata": {},
   "source": [
    "## Reading and Writing Files"
   ]
  },
  {
   "cell_type": "markdown",
   "id": "f2fe85e1",
   "metadata": {},
   "source": [
    "We will be using two datasets from the Open Repair Alliance (https://openrepair.org/open-data/downloads/)\n",
    "1) Download the Fixit Clinic Zip file, we'll be using the OpenRepairData_v0.3_FixitClinic_202204.csv file <br>\n",
    "2) Download the Restart Project Zip file, we'll be using the OpenRepairData_v0.3_RestartProject_202204.csv file"
   ]
  },
  {
   "cell_type": "code",
   "execution_count": null,
   "id": "cafbb2b1",
   "metadata": {},
   "outputs": [],
   "source": [
    "fixit_df = pd.read_csv(r\"/filepath\")"
   ]
  },
  {
   "cell_type": "code",
   "execution_count": null,
   "id": "fed6e723",
   "metadata": {
    "scrolled": true
   },
   "outputs": [],
   "source": [
    "#How do we know if it worked?\n",
    "fixit_df.head()"
   ]
  },
  {
   "cell_type": "code",
   "execution_count": null,
   "id": "8b1f6417",
   "metadata": {},
   "outputs": [],
   "source": [
    "restart_proj_df = pd.read_csv(r\"/filepath\")"
   ]
  },
  {
   "cell_type": "code",
   "execution_count": null,
   "id": "96bb3277",
   "metadata": {
    "scrolled": true
   },
   "outputs": [],
   "source": [
    "#Check to see if it worked\n",
    "restart_proj_df.head()"
   ]
  },
  {
   "cell_type": "code",
   "execution_count": null,
   "id": "2939862c",
   "metadata": {},
   "outputs": [],
   "source": [
    "#You can add a filepath to specify where to save the csv, otherwise it will go in the same folder as the python notebook\n",
    "grades_df.to_csv(r'Grades.csv', index=False)"
   ]
  },
  {
   "cell_type": "markdown",
   "id": "50c52d78",
   "metadata": {},
   "source": [
    "## Exploratory Data Analysis"
   ]
  },
  {
   "cell_type": "code",
   "execution_count": null,
   "id": "18c01abd",
   "metadata": {
    "scrolled": true
   },
   "outputs": [],
   "source": [
    "fixit_df.head(7)"
   ]
  },
  {
   "cell_type": "code",
   "execution_count": null,
   "id": "0357bf93",
   "metadata": {
    "scrolled": false
   },
   "outputs": [],
   "source": [
    "restart_proj_df.tail()"
   ]
  },
  {
   "cell_type": "code",
   "execution_count": null,
   "id": "8a5d9b3e",
   "metadata": {
    "scrolled": false
   },
   "outputs": [],
   "source": [
    "#Review the top 5 rows of a single column\n",
    "fixit_df['product_category'].head()"
   ]
  },
  {
   "cell_type": "code",
   "execution_count": null,
   "id": "ecae86a5",
   "metadata": {},
   "outputs": [],
   "source": [
    "#Review the last 5 rows of a single column\n",
    "restart_proj_df.brand.tail()"
   ]
  },
  {
   "cell_type": "code",
   "execution_count": null,
   "id": "dace70cc",
   "metadata": {
    "scrolled": true
   },
   "outputs": [],
   "source": [
    "fixit_df.describe()"
   ]
  },
  {
   "cell_type": "code",
   "execution_count": null,
   "id": "daaa9e6b",
   "metadata": {},
   "outputs": [],
   "source": [
    "#returns a tuple of number of rows by number of columns\n",
    "restart_proj_df.shape"
   ]
  },
  {
   "cell_type": "code",
   "execution_count": null,
   "id": "0501d277",
   "metadata": {
    "scrolled": true
   },
   "outputs": [],
   "source": [
    "fixit_df.dtypes"
   ]
  },
  {
   "cell_type": "code",
   "execution_count": null,
   "id": "f980d0c3",
   "metadata": {},
   "outputs": [],
   "source": [
    "restart_proj_df.info()"
   ]
  },
  {
   "cell_type": "code",
   "execution_count": null,
   "id": "273f2e8e",
   "metadata": {
    "scrolled": true
   },
   "outputs": [],
   "source": [
    "#Finds the number of nulls in each column\n",
    "restart_proj_df.isnull().sum()"
   ]
  },
  {
   "cell_type": "code",
   "execution_count": null,
   "id": "7bc95469",
   "metadata": {},
   "outputs": [],
   "source": [
    "fixit_df['group_identifier'].nunique()"
   ]
  },
  {
   "cell_type": "code",
   "execution_count": null,
   "id": "1ba2f1bc",
   "metadata": {
    "scrolled": true
   },
   "outputs": [],
   "source": [
    "fixit_df['product_category'].unique().tolist()"
   ]
  },
  {
   "cell_type": "code",
   "execution_count": null,
   "id": "d4730db9",
   "metadata": {},
   "outputs": [],
   "source": [
    "fixit_df['product_category'].value_counts()"
   ]
  }
 ],
 "metadata": {
  "colab": {
   "provenance": []
  },
  "kernelspec": {
   "display_name": "Python 3 (ipykernel)",
   "language": "python",
   "name": "python3"
  },
  "language_info": {
   "codemirror_mode": {
    "name": "ipython",
    "version": 3
   },
   "file_extension": ".py",
   "mimetype": "text/x-python",
   "name": "python",
   "nbconvert_exporter": "python",
   "pygments_lexer": "ipython3",
   "version": "3.9.13"
  }
 },
 "nbformat": 4,
 "nbformat_minor": 5
}
