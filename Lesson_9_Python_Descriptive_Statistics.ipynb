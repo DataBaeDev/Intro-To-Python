{
 "cells": [
  {
   "cell_type": "markdown",
   "id": "7446797e",
   "metadata": {},
   "source": [
    "# Python Descriptive Statistics"
   ]
  },
  {
   "cell_type": "markdown",
   "id": "c828bf5d",
   "metadata": {},
   "source": [
    "## Import Libraries"
   ]
  },
  {
   "cell_type": "code",
   "execution_count": null,
   "id": "7ac87a57",
   "metadata": {},
   "outputs": [],
   "source": [
    "import pandas as pd\n",
    "import matplotlib.pyplot as plt\n",
    "import seaborn as sns\n",
    "\n",
    "pd.set_option('display.max_rows', None)"
   ]
  },
  {
   "cell_type": "markdown",
   "id": "105a9848",
   "metadata": {},
   "source": [
    "## Today's Dataset\n",
    "Analyzing Customer Spending Habits: <br> https://www.kaggle.com/datasets/thedevastator/analyzing-customer-spending-habits-to-improve-sa?resource=download"
   ]
  },
  {
   "cell_type": "code",
   "execution_count": null,
   "id": "2ef133d2",
   "metadata": {},
   "outputs": [],
   "source": [
    "customer_spend_df = pd.read_csv(r\"/filepath\")"
   ]
  },
  {
   "cell_type": "code",
   "execution_count": null,
   "id": "96cedb6b",
   "metadata": {},
   "outputs": [],
   "source": [
    "#pick 7 random rows\n",
    "customer_spend_df.sample(7)"
   ]
  },
  {
   "cell_type": "markdown",
   "id": "672b4b9a",
   "metadata": {},
   "source": [
    "## dataframe.describe()\n",
    "You can retrieve various descriptive statistics using the .describe() method, or you calculate the only the figures that you need."
   ]
  },
  {
   "cell_type": "code",
   "execution_count": null,
   "id": "03bb595b",
   "metadata": {
    "scrolled": false
   },
   "outputs": [],
   "source": [
    "customer_spend_df.describe()"
   ]
  },
  {
   "cell_type": "code",
   "execution_count": null,
   "id": "8f550e57",
   "metadata": {
    "scrolled": true
   },
   "outputs": [],
   "source": [
    "#option to include data about non-numeric fields\n",
    "customer_spend_df.describe(include = 'all')"
   ]
  },
  {
   "cell_type": "code",
   "execution_count": null,
   "id": "fd774476",
   "metadata": {},
   "outputs": [],
   "source": [
    "customer_spend_df[\"Customer Age\"].count()"
   ]
  },
  {
   "cell_type": "code",
   "execution_count": null,
   "id": "a239b637",
   "metadata": {
    "scrolled": false
   },
   "outputs": [],
   "source": [
    "customer_spend_df.min()"
   ]
  },
  {
   "cell_type": "code",
   "execution_count": null,
   "id": "07b905e0",
   "metadata": {},
   "outputs": [],
   "source": [
    "#specify which column we're using\n",
    "customer_spend_df[\"Customer Age\"].min()"
   ]
  },
  {
   "cell_type": "code",
   "execution_count": null,
   "id": "348882ad",
   "metadata": {},
   "outputs": [],
   "source": [
    "#Group by year\n",
    "customer_spend_df.groupby('Year')['Customer Age'].mean()"
   ]
  },
  {
   "cell_type": "code",
   "execution_count": null,
   "id": "701b87bc",
   "metadata": {},
   "outputs": [],
   "source": [
    "customer_spend_df['Unit Price'].max()"
   ]
  },
  {
   "cell_type": "code",
   "execution_count": null,
   "id": "d99eaff4",
   "metadata": {},
   "outputs": [],
   "source": [
    "customer_spend_df['Unit Price'].median()"
   ]
  },
  {
   "cell_type": "code",
   "execution_count": null,
   "id": "00b3deab",
   "metadata": {},
   "outputs": [],
   "source": [
    "customer_spend_df['Unit Price'].std()"
   ]
  },
  {
   "cell_type": "code",
   "execution_count": null,
   "id": "de8326b3",
   "metadata": {},
   "outputs": [],
   "source": [
    "customer_spend_df['Quantity'].quantile(q=.25)"
   ]
  },
  {
   "cell_type": "code",
   "execution_count": null,
   "id": "eb5abae7",
   "metadata": {},
   "outputs": [],
   "source": [
    "customer_spend_df['Revenue'].quantile(q=.50)"
   ]
  },
  {
   "cell_type": "code",
   "execution_count": null,
   "id": "3deb64fb",
   "metadata": {},
   "outputs": [],
   "source": [
    "customer_spend_df['Cost'].quantile(q=.75)"
   ]
  },
  {
   "cell_type": "markdown",
   "id": "314c3add",
   "metadata": {},
   "source": [
    "## Additional descriptive statistics"
   ]
  },
  {
   "cell_type": "code",
   "execution_count": null,
   "id": "9a88010e",
   "metadata": {},
   "outputs": [],
   "source": [
    "#list the most frequently occurring value\n",
    "customer_spend_df[\"Year\"].mode()"
   ]
  },
  {
   "cell_type": "code",
   "execution_count": null,
   "id": "8b2d1873",
   "metadata": {
    "scrolled": true
   },
   "outputs": [],
   "source": [
    "## Rank\n",
    "## Additional Info on Rank: https://www.geeksforgeeks.org/python-pandas-dataframe-rank/\n",
    "customer_spend_df[\"Age_Rank\"] = customer_spend_df[\"Customer Age\"].rank(method='min')"
   ]
  },
  {
   "cell_type": "code",
   "execution_count": null,
   "id": "4a9278ee",
   "metadata": {},
   "outputs": [],
   "source": [
    "customer_spend_df.sort_values(\"Age_Rank\", inplace = True)"
   ]
  },
  {
   "cell_type": "markdown",
   "id": "a979c2d6",
   "metadata": {},
   "source": [
    "## Plotting Distribution"
   ]
  },
  {
   "cell_type": "code",
   "execution_count": null,
   "id": "fa25c1c4",
   "metadata": {},
   "outputs": [],
   "source": [
    "#Seaborn Histogram\n",
    "sns.histplot(customer_spend_df['Unit Price']);"
   ]
  },
  {
   "cell_type": "code",
   "execution_count": null,
   "id": "946e1940",
   "metadata": {
    "scrolled": false
   },
   "outputs": [],
   "source": [
    "#Seaborn Kernel Density Plot\n",
    "sns.kdeplot(customer_spend_df['Unit Price'])"
   ]
  },
  {
   "cell_type": "code",
   "execution_count": null,
   "id": "1e0b9330",
   "metadata": {
    "scrolled": false
   },
   "outputs": [],
   "source": [
    "#Seaborn Kernel Density Plot\n",
    "sns.kdeplot(customer_spend_df['Cost']);"
   ]
  },
  {
   "cell_type": "code",
   "execution_count": null,
   "id": "5f4839dd",
   "metadata": {},
   "outputs": [],
   "source": [
    "cost_mean=customer_spend_df['Cost'].mean()\n",
    "cost_median= customer_spend_df['Cost'].median()\n",
    "cost_mode=customer_spend_df['Cost'].mode().loc[0]"
   ]
  },
  {
   "cell_type": "code",
   "execution_count": null,
   "id": "e645509d",
   "metadata": {},
   "outputs": [],
   "source": [
    "sns.kdeplot(customer_spend_df['Cost'])\n",
    "\n",
    "plt.axvline(cost_mean, color='purple', label='mean', linestyle='--')\n",
    "plt.axvline(cost_median, color='green', label='median')\n",
    "plt.axvline(cost_mode, color='red', label='mode')\n",
    "plt.legend()"
   ]
  }
 ],
 "metadata": {
  "colab": {
   "provenance": []
  },
  "kernelspec": {
   "display_name": "Python 3 (ipykernel)",
   "language": "python",
   "name": "python3"
  },
  "language_info": {
   "codemirror_mode": {
    "name": "ipython",
    "version": 3
   },
   "file_extension": ".py",
   "mimetype": "text/x-python",
   "name": "python",
   "nbconvert_exporter": "python",
   "pygments_lexer": "ipython3",
   "version": "3.9.13"
  }
 },
 "nbformat": 4,
 "nbformat_minor": 5
}
