{
 "cells": [
  {
   "cell_type": "markdown",
   "id": "7446797e",
   "metadata": {
    "id": "7446797e"
   },
   "source": [
    "# Python Control Flow"
   ]
  },
  {
   "cell_type": "markdown",
   "id": "1afd4afc",
   "metadata": {
    "id": "1afd4afc"
   },
   "source": [
    "## If Statements"
   ]
  },
  {
   "cell_type": "code",
   "execution_count": null,
   "id": "85e54cac",
   "metadata": {
    "id": "85e54cac",
    "outputId": "1b78af94-6285-4777-9007-56abc7c8adc9"
   },
   "outputs": [],
   "source": [
    "#These are very similar to sql case statements!\n",
    "#You can add as many elif clauses as you like.\n",
    "\n",
    "class_size = 2\n",
    "\n",
    "if class_size <= 7:\n",
    "    print(\"This is a small class.\")\n",
    "    \n",
    "elif class_size <= 15:\n",
    "    print(\"This is a medium sized class.\")\n",
    "        \n",
    "else:\n",
    "    print(\"This is a large class\")"
   ]
  },
  {
   "cell_type": "code",
   "execution_count": null,
   "id": "ce641d84",
   "metadata": {
    "id": "ce641d84",
    "outputId": "6d7b8a83-5df2-44ec-ceee-cba01d2179f9"
   },
   "outputs": [],
   "source": [
    "# Once your statement evaluates a true condition it stops; so the order of your statements matters!\n",
    "\n",
    "if class_size <= 15:\n",
    "    print(\"This is a medium sized class.\")\n",
    "    \n",
    "elif class_size <= 7:\n",
    "    print(\"This is a small class.\")\n",
    "        \n",
    "else:\n",
    "    print(\"This is a large class\")"
   ]
  },
  {
   "cell_type": "code",
   "execution_count": null,
   "id": "9d1f2092",
   "metadata": {
    "id": "9d1f2092",
    "outputId": "37550898-7e0d-4183-f290-db3fb25093bc"
   },
   "outputs": [],
   "source": [
    "weather = input('Please enter the current weather; you may select from rain, snow, or sun: ')\n",
    "activity = '?'\n",
    "\n",
    "if weather == 'snow':\n",
    "    activity = 'Let''s make a snowman!'\n",
    "elif weather == 'rain':\n",
    "    activity = 'Let''s splash in some puddles!'\n",
    "elif weather == 'sun':\n",
    "    activity = 'Let''s go to the beach!'\n",
    "else:\n",
    "    activity = f'{weather} is not a valid weather condition; please start again.'\n",
    "    \n",
    "print(activity)"
   ]
  },
  {
   "cell_type": "markdown",
   "id": "b8f19e3b",
   "metadata": {
    "id": "b8f19e3b"
   },
   "source": [
    "## Logical Operators"
   ]
  },
  {
   "cell_type": "code",
   "execution_count": null,
   "id": "95e728f9",
   "metadata": {
    "id": "95e728f9",
    "outputId": "e5f7433e-7114-4bd6-bfdd-6d7fe15028d3"
   },
   "outputs": [],
   "source": [
    "time_of_day = 'morning'\n",
    "eggs_at_home = False\n",
    "fresh_veggies_at_home = True\n",
    "\n",
    "if time_of_day == 'morning' and eggs_at_home == True: \n",
    "    print(\"I'm making omelettes for breakfast.\")\n",
    "    \n",
    "elif time_of_day == 'morning':\n",
    "    print(\"Let's go out for breakfast.\")\n",
    "          \n",
    "elif time_of_day == 'afternoon' and fresh_veggies_at_home == True:\n",
    "    print(\"Let's make a salad for lunch.\")\n",
    "    \n",
    "else:\n",
    "    print(\"I'm ordering takeout.\")"
   ]
  },
  {
   "cell_type": "markdown",
   "id": "f5816940",
   "metadata": {
    "id": "f5816940"
   },
   "source": [
    "## Nested If Statements"
   ]
  },
  {
   "cell_type": "code",
   "execution_count": null,
   "id": "839417de",
   "metadata": {
    "id": "839417de",
    "outputId": "3140e948-ba42-4345-9bb6-f872014656d4"
   },
   "outputs": [],
   "source": [
    "if time_of_day == 'morning':\n",
    "    \n",
    "    if eggs_at_home == True: \n",
    "        print(\"I'm making omelettes for breakfast.\")   \n",
    "    else:\n",
    "        print(\"Let's go out for breakfast.\")\n",
    "          \n",
    "elif time_of_day == 'afternoon':\n",
    "    if fresh_veggies_at_home == True:\n",
    "        print(\"Let's make a salad for lunch.\")\n",
    "    else:\n",
    "        print(\"Let's go to that salad bar for lunch.\") \n",
    "else:\n",
    "    print(\"I'm ordering takeout.\")"
   ]
  },
  {
   "cell_type": "markdown",
   "id": "b1d0df08",
   "metadata": {
    "id": "b1d0df08"
   },
   "source": [
    "## While Loops"
   ]
  },
  {
   "cell_type": "code",
   "execution_count": null,
   "id": "543336b9",
   "metadata": {
    "id": "543336b9",
    "outputId": "007e092a-0b97-4d33-f9d0-a88bf184c54e"
   },
   "outputs": [],
   "source": [
    "food_list = ['spaghetti', 'burrito', 'eggs benedict', 'cauliflower', 'quinoa']\n",
    "\n",
    "while food_list:\n",
    "    print(food_list)\n",
    "    print(food_list.pop())"
   ]
  },
  {
   "cell_type": "code",
   "execution_count": null,
   "id": "5f7aca6f",
   "metadata": {
    "id": "5f7aca6f",
    "outputId": "7538ee03-4d10-463a-f54a-7b99cfb3aff8"
   },
   "outputs": [],
   "source": [
    "print(food_list)"
   ]
  },
  {
   "cell_type": "code",
   "execution_count": null,
   "id": "7ef9cc7a",
   "metadata": {
    "id": "7ef9cc7a",
    "outputId": "cd0032b2-7b2a-4bc5-cc36-074fe9e62dd1"
   },
   "outputs": [],
   "source": [
    "i = 0\n",
    "car_list = ['Mazda3', 'Chevy Camaro', 'Lincoln Towncar', 'Kia Sportage']\n",
    "\n",
    "while i < len(car_list):\n",
    "    print(car_list[i])\n",
    "    i = i+1"
   ]
  },
  {
   "cell_type": "markdown",
   "id": "fcc3f364",
   "metadata": {
    "id": "fcc3f364"
   },
   "source": [
    "## For Loops"
   ]
  },
  {
   "cell_type": "code",
   "execution_count": null,
   "id": "fbf6f756",
   "metadata": {
    "id": "fbf6f756",
    "outputId": "764d8298-8c60-48ec-f66c-e8a48f229d0f"
   },
   "outputs": [],
   "source": [
    "#This loop iterates through a list, calculates and prints the cost of each item with tax, and tallies up the total cost\n",
    "\n",
    "items_and_prices = {\n",
    "\t'Shirt': 48,\n",
    "\t'Pants': 74,\n",
    "\t'Dress': 98,\n",
    "\t'Socks': 12\n",
    "}\n",
    "\n",
    "tax_rate = .07\n",
    "total_cost = 0\n",
    "\n",
    "for item in items_and_prices:\n",
    "    price_w_tax = items_and_prices[item] + (items_and_prices[item] * tax_rate)\n",
    "    print(f\"The cost of the {item} with tax is ${price_w_tax }\")\n",
    "    \n",
    "    #tally up the total cost\n",
    "    total_cost = total_cost + price_w_tax\n",
    "    #print(\"Current total cost\", total_cost)\n",
    "    \n",
    "total_cost = round(total_cost, 2)\n",
    "print(f\"The total cost of all items is ${total_cost}.\")"
   ]
  },
  {
   "cell_type": "markdown",
   "id": "a5a4cfe8",
   "metadata": {
    "id": "a5a4cfe8"
   },
   "source": [
    "## Functions\n",
    "<br>\n",
    "Notes about python functions: <br>\n",
    "- Variables in a function only work within the function!<br>\n",
    "- Functions don't just run on their own they need to be called (i.e. someone or something needs to pull the trigger)"
   ]
  },
  {
   "cell_type": "code",
   "execution_count": null,
   "id": "101a34ff",
   "metadata": {
    "id": "101a34ff"
   },
   "outputs": [],
   "source": [
    "def calc_cost_w_tax(x):\n",
    "    return round(x * 1.07, 2)"
   ]
  },
  {
   "cell_type": "code",
   "execution_count": null,
   "id": "a66f6fe9",
   "metadata": {
    "id": "a66f6fe9",
    "outputId": "bbf612b9-d839-4c8c-ed3f-74364ef9f373",
    "scrolled": true
   },
   "outputs": [],
   "source": [
    "#print(calc_cost_w_tax(10.00))\n",
    "print(calc_cost_w_tax(33.00))"
   ]
  },
  {
   "cell_type": "code",
   "execution_count": null,
   "id": "48929f07",
   "metadata": {
    "id": "48929f07"
   },
   "outputs": [],
   "source": [
    "new_cost = calc_cost_w_tax(33.00)"
   ]
  },
  {
   "cell_type": "code",
   "execution_count": null,
   "id": "fc849801",
   "metadata": {
    "id": "fc849801"
   },
   "outputs": [],
   "source": [
    "def make_sandwich(bread_type, protein, other):\n",
    "    final_product = f\"This morning I made a sandwich with {bread_type} bread. \\n The sandwich contained {protein} and {other}.\"\n",
    "    return final_product"
   ]
  },
  {
   "cell_type": "code",
   "execution_count": null,
   "id": "0caf6165",
   "metadata": {
    "id": "0caf6165",
    "outputId": "8cea1c34-335d-4806-bc08-ef364d647dd6"
   },
   "outputs": [],
   "source": [
    "#variables don't exist outside of the function\n",
    "print(bread_type)"
   ]
  },
  {
   "cell_type": "code",
   "execution_count": null,
   "id": "e79404fc",
   "metadata": {
    "id": "e79404fc",
    "outputId": "52f1a421-39b9-41c0-d8c4-6534aca1453a"
   },
   "outputs": [],
   "source": [
    "print(make_sandwich(\"whole wheat\", \"peanut butter\", \"strawberry jelly\"))"
   ]
  },
  {
   "cell_type": "code",
   "execution_count": null,
   "id": "40946792",
   "metadata": {
    "id": "40946792",
    "outputId": "0ef9bad9-8f7d-49af-a800-1e6725439ea1"
   },
   "outputs": [],
   "source": [
    "print(make_sandwich(\"pumpernickel\", \"corned beef\", \"swiss cheese\"))"
   ]
  }
 ],
 "metadata": {
  "colab": {
   "provenance": []
  },
  "kernelspec": {
   "display_name": "Python 3 (ipykernel)",
   "language": "python",
   "name": "python3"
  },
  "language_info": {
   "codemirror_mode": {
    "name": "ipython",
    "version": 3
   },
   "file_extension": ".py",
   "mimetype": "text/x-python",
   "name": "python",
   "nbconvert_exporter": "python",
   "pygments_lexer": "ipython3",
   "version": "3.9.13"
  }
 },
 "nbformat": 4,
 "nbformat_minor": 5
}
