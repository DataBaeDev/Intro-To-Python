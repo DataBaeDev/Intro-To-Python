{
 "cells": [
  {
   "cell_type": "markdown",
   "id": "7446797e",
   "metadata": {},
   "source": [
    "# Python Machine Learning"
   ]
  },
  {
   "cell_type": "markdown",
   "id": "c828bf5d",
   "metadata": {},
   "source": [
    "## Import Libraries\n",
    "scikit-learn documentation: https://scikit-learn.org/stable/"
   ]
  },
  {
   "cell_type": "code",
   "execution_count": null,
   "id": "7ac87a57",
   "metadata": {},
   "outputs": [],
   "source": [
    "import pandas as pd\n",
    "from sklearn.linear_model import LogisticRegression"
   ]
  },
  {
   "cell_type": "markdown",
   "id": "105a9848",
   "metadata": {},
   "source": [
    "## Today's Dataset\n",
    "Kaggle - Hotel Reservation Data: <br> https://www.kaggle.com/datasets/ahsan81/hotel-reservations-classification-dataset"
   ]
  },
  {
   "cell_type": "code",
   "execution_count": null,
   "id": "2ef133d2",
   "metadata": {},
   "outputs": [],
   "source": [
    "hotel_df = pd.read_csv(r\"filepath\")"
   ]
  },
  {
   "cell_type": "code",
   "execution_count": null,
   "id": "96cedb6b",
   "metadata": {
    "scrolled": false
   },
   "outputs": [],
   "source": [
    "hotel_df.sample(7)"
   ]
  },
  {
   "cell_type": "markdown",
   "id": "1ae46181",
   "metadata": {},
   "source": [
    "## Exploratory Data Analysis"
   ]
  },
  {
   "cell_type": "code",
   "execution_count": null,
   "id": "6a444bdb",
   "metadata": {},
   "outputs": [],
   "source": [
    "hotel_df.shape"
   ]
  },
  {
   "cell_type": "code",
   "execution_count": null,
   "id": "62f6f97f",
   "metadata": {
    "scrolled": true
   },
   "outputs": [],
   "source": [
    "hotel_df.describe()"
   ]
  },
  {
   "cell_type": "code",
   "execution_count": null,
   "id": "7e7fb621",
   "metadata": {},
   "outputs": [],
   "source": [
    "hotel_df.isna().sum()"
   ]
  },
  {
   "cell_type": "code",
   "execution_count": null,
   "id": "15d2a3be",
   "metadata": {},
   "outputs": [],
   "source": [
    "hotel_df.duplicated().sum()"
   ]
  },
  {
   "cell_type": "code",
   "execution_count": null,
   "id": "a303cb25",
   "metadata": {
    "scrolled": true
   },
   "outputs": [],
   "source": [
    "hotel_df.corr()"
   ]
  },
  {
   "cell_type": "code",
   "execution_count": null,
   "id": "f3836d50",
   "metadata": {},
   "outputs": [],
   "source": [
    "import seaborn as sns\n",
    "import matplotlib.pyplot as plt\n",
    "\n",
    "plt.subplots(figsize=(12, 12))\n",
    "sns.heatmap(hotel_df.corr(),annot=True, cmap='Spectral');"
   ]
  },
  {
   "cell_type": "markdown",
   "id": "8c80efb9",
   "metadata": {},
   "source": [
    "## Data Transformation"
   ]
  },
  {
   "cell_type": "code",
   "execution_count": null,
   "id": "387ac77a",
   "metadata": {},
   "outputs": [],
   "source": [
    "# Create a column for total nights\n",
    "hotel_df['total_nights'] = hotel_df['no_of_weekend_nights'] + hotel_df['no_of_week_nights']"
   ]
  },
  {
   "cell_type": "code",
   "execution_count": null,
   "id": "3b81b09d",
   "metadata": {},
   "outputs": [],
   "source": [
    "hotel_df = pd.get_dummies(hotel_df, columns = ['booking_status'])"
   ]
  },
  {
   "cell_type": "code",
   "execution_count": null,
   "id": "cd6a8d37",
   "metadata": {},
   "outputs": [],
   "source": [
    "hotel_df.head()"
   ]
  },
  {
   "cell_type": "markdown",
   "id": "af73fd0b",
   "metadata": {},
   "source": [
    "## Logistic Regression"
   ]
  },
  {
   "cell_type": "code",
   "execution_count": null,
   "id": "5fd0657d",
   "metadata": {},
   "outputs": [],
   "source": [
    "lr = LogisticRegression()"
   ]
  },
  {
   "cell_type": "code",
   "execution_count": null,
   "id": "8de4e456",
   "metadata": {},
   "outputs": [],
   "source": [
    "#split our model into a training group and a testing group\n",
    "from sklearn.model_selection import train_test_split\n",
    "\n",
    "train, test = train_test_split(hotel_df, test_size=0.2) # use random 20% of the data for testing"
   ]
  },
  {
   "cell_type": "code",
   "execution_count": null,
   "id": "3540f91d",
   "metadata": {},
   "outputs": [],
   "source": [
    "#Select our independent variable\n",
    "#We need to use the double brackets to keep this as a dataframe, otherwise the single column turns into a series\n",
    "train_feat = train[['total_nights']]"
   ]
  },
  {
   "cell_type": "code",
   "execution_count": null,
   "id": "ab83b62f",
   "metadata": {},
   "outputs": [],
   "source": [
    "#select our dependent variable\n",
    "train_target = train['booking_status_Canceled']"
   ]
  },
  {
   "cell_type": "code",
   "execution_count": null,
   "id": "d6472b51",
   "metadata": {},
   "outputs": [],
   "source": [
    "lr.fit(train_feat, train_target)"
   ]
  },
  {
   "cell_type": "code",
   "execution_count": null,
   "id": "500a74f5",
   "metadata": {},
   "outputs": [],
   "source": [
    "#Now we test\n",
    "test_feat = test[['total_nights']]\n",
    "test_target = test['booking_status_Canceled']\n",
    "lr.score(test_feat, test_target)"
   ]
  },
  {
   "cell_type": "code",
   "execution_count": null,
   "id": "969ba9bd",
   "metadata": {},
   "outputs": [],
   "source": [
    "#Display the results of our test using a \"confusion matrix\"\n",
    "from sklearn.metrics import confusion_matrix\n",
    "matrix = confusion_matrix(lr.predict(train_feat), train_target)\n",
    "print(\n",
    "    '''                  Confusion Matrix layout\n",
    "              _______________________________\n",
    "              | Predicted No | Predicted Yes\n",
    "    Actual No |  Correct     |   Incorrect\n",
    "   Actual Yes |  Incorrect   |   Correct\n",
    "   \n",
    "   ''')\n",
    "print(matrix)"
   ]
  },
  {
   "cell_type": "code",
   "execution_count": null,
   "id": "cf09e33b",
   "metadata": {},
   "outputs": [],
   "source": [
    "#Interpretation of our results \n",
    "print(f\"Our model correctly predicted {matrix[0,0]} bookings as 'not canceled'.\")\n",
    "print(f\"Our model incorrectly predicted {matrix[0,1]} bookings as 'canceled'. These are 'false positives.'\")\n",
    "\n",
    "print(f\"Our model incorrectly predicted {matrix[1,0]} bookings as 'not canceled'. These are 'false negatives.'\")\n",
    "print(f\"Our model correctly predicted {matrix[1,1]} bookings as 'canceled'.\")"
   ]
  },
  {
   "cell_type": "markdown",
   "id": "dc11a731",
   "metadata": {},
   "source": [
    "## Other Machine Learning Methods\n",
    "Keep in mind that we're still using the same training and testing variables for the following models."
   ]
  },
  {
   "cell_type": "markdown",
   "id": "ddb2b03e",
   "metadata": {},
   "source": [
    "Support Vector Machine Resources <br>\n",
    "https://www.geeksforgeeks.org/support-vector-machine-algorithm/ <br>\n",
    "https://www.analyticsvidhya.com/blog/2017/09/understaing-support-vector-machine-example-code/"
   ]
  },
  {
   "cell_type": "code",
   "execution_count": null,
   "id": "c3135e0c",
   "metadata": {},
   "outputs": [],
   "source": [
    "from sklearn.svm import LinearSVC \n",
    "\n",
    "svm = LinearSVC()\n",
    "svm.fit(train_feat, train_target)\n",
    "svm.score(test_feat, test_target)\n",
    "\n",
    "confusion_matrix(svm.predict(train_feat),train_target)"
   ]
  },
  {
   "cell_type": "markdown",
   "id": "d90f7e8d",
   "metadata": {},
   "source": [
    "Multi-layer Perceptron "
   ]
  },
  {
   "cell_type": "code",
   "execution_count": null,
   "id": "f827758e",
   "metadata": {},
   "outputs": [],
   "source": [
    "from sklearn.neural_network import MLPClassifier \n",
    "\n",
    "mlp = MLPClassifier()\n",
    "mlp.fit(train_feat, train_target)\n",
    "mlp.score(test_feat, test_target)\n",
    "\n",
    "confusion_matrix(mlp.predict(train_feat),train_target)"
   ]
  },
  {
   "cell_type": "markdown",
   "id": "50317046",
   "metadata": {},
   "source": [
    "Decision Tree Classifier: <br>\n",
    "https://towardsdatascience.com/decision-tree-classifier-explained-in-real-life-picking-a-vacation-destination-6226b2b60575\n",
    "\n",
    "Random Forest Classifier: <br>\n",
    "https://www.analyticsvidhya.com/blog/2016/04/tree-based-algorithms-complete-tutorial-scratch-in-python/#nine "
   ]
  },
  {
   "cell_type": "code",
   "execution_count": null,
   "id": "4724bb85",
   "metadata": {},
   "outputs": [],
   "source": [
    "from sklearn.ensemble import RandomForestClassifier\n",
    "\n",
    "rf=RandomForestClassifier()\n",
    "rf.fit(train_feat, train_target)\n",
    "rf.score(test_feat, test_target)\n",
    "\n",
    "confusion_matrix(rf.predict(train_feat),train_target)"
   ]
  },
  {
   "cell_type": "code",
   "execution_count": null,
   "id": "18424a4c",
   "metadata": {},
   "outputs": [],
   "source": []
  }
 ],
 "metadata": {
  "colab": {
   "provenance": []
  },
  "kernelspec": {
   "display_name": "Python 3 (ipykernel)",
   "language": "python",
   "name": "python3"
  },
  "language_info": {
   "codemirror_mode": {
    "name": "ipython",
    "version": 3
   },
   "file_extension": ".py",
   "mimetype": "text/x-python",
   "name": "python",
   "nbconvert_exporter": "python",
   "pygments_lexer": "ipython3",
   "version": "3.9.13"
  }
 },
 "nbformat": 4,
 "nbformat_minor": 5
}
