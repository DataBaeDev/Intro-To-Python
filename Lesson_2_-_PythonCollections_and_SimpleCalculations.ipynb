{
 "cells": [
  {
   "cell_type": "markdown",
   "id": "7446797e",
   "metadata": {
    "id": "7446797e"
   },
   "source": [
    "# Python Simple Calculations & Collections"
   ]
  },
  {
   "cell_type": "markdown",
   "id": "438bf54c",
   "metadata": {
    "id": "438bf54c"
   },
   "source": [
    "## Python Reminders\n",
    "\n",
    "- Capitalization matters!\n",
    "- Proper use of spacing and tabs is important in Python!\n",
    "- You can use line breaks to space out your code without impacting the results\n",
    "- Use # to start comments"
   ]
  },
  {
   "cell_type": "markdown",
   "id": "ee680ca1",
   "metadata": {
    "id": "ee680ca1"
   },
   "source": [
    "## Strings"
   ]
  },
  {
   "cell_type": "code",
   "execution_count": null,
   "id": "3c2e9b7e",
   "metadata": {
    "id": "3c2e9b7e"
   },
   "outputs": [],
   "source": [
    "# Formatted Strings, there are a few ways to do this!\n",
    "\n",
    "fname = 'Jay'\n",
    "lname = 'Jenkins'\n",
    "age = 33\n",
    "\n",
    "phrase = f'{fname} {lname} is my neighbor and they are {age} years old.'"
   ]
  },
  {
   "cell_type": "code",
   "execution_count": null,
   "id": "5b0c9a6a",
   "metadata": {
    "id": "5b0c9a6a",
    "outputId": "7ab272e7-6a7b-46c3-b65d-158a3e522d2c"
   },
   "outputs": [],
   "source": [
    "print(phrase)"
   ]
  },
  {
   "cell_type": "code",
   "execution_count": null,
   "id": "1f363cec",
   "metadata": {
    "id": "1f363cec",
    "outputId": "802e776a-1d0b-4a39-c658-d7e07cc96264"
   },
   "outputs": [],
   "source": [
    "#Split - divides a string by a certain character(s), and turns the result into a list.\n",
    "\n",
    "phrase_list = phrase.split(\" \")\n",
    "print(phrase_list)"
   ]
  },
  {
   "cell_type": "code",
   "execution_count": null,
   "id": "ce47b47f",
   "metadata": {
    "id": "ce47b47f",
    "outputId": "ba5c074c-1ffd-4372-e874-d594a587bd94"
   },
   "outputs": [],
   "source": [
    "#Escape Characters - these are just a few of them\n",
    "\n",
    "# Use a backslash to escape a single quote or apostrophe\n",
    "print('Hey it\\'s me!')"
   ]
  },
  {
   "cell_type": "code",
   "execution_count": null,
   "id": "27276665",
   "metadata": {
    "id": "27276665",
    "outputId": "f9b00ae8-9441-474a-c2da-b106f1fcf236"
   },
   "outputs": [],
   "source": [
    "#Use two backslashes to display a single backslash\n",
    "print('\\\\')"
   ]
  },
  {
   "cell_type": "code",
   "execution_count": null,
   "id": "b9e6827f",
   "metadata": {
    "id": "b9e6827f",
    "outputId": "999fc083-a510-41f7-c8f3-dfd83f30b1bb"
   },
   "outputs": [],
   "source": [
    "#use \\n to go to the next line\n",
    "print('Hi, I love data \\n and python is my favorite coding language!') "
   ]
  },
  {
   "cell_type": "code",
   "execution_count": null,
   "id": "8cbb1ec1",
   "metadata": {
    "id": "8cbb1ec1",
    "outputId": "369951ec-750f-4419-b0ee-0f68230321b0",
    "scrolled": true
   },
   "outputs": [],
   "source": [
    "#use \\t to insert a tab\n",
    "print('Yes...\\t There''s so much you can do with Python')"
   ]
  },
  {
   "cell_type": "code",
   "execution_count": null,
   "id": "114c229a",
   "metadata": {
    "id": "114c229a",
    "outputId": "94ef33fa-79b5-4023-b8ea-abb52f763947"
   },
   "outputs": [],
   "source": [
    "#Surround your string with 3 single apostrophes to manually format your text exactly how you want it!\n",
    "print('''\n",
    "Today we are working on\n",
    "Strings\n",
    "    Lists\n",
    "        and Dictionaries\n",
    "''')"
   ]
  },
  {
   "cell_type": "markdown",
   "id": "56021c82",
   "metadata": {
    "id": "56021c82"
   },
   "source": [
    "## Lists"
   ]
  },
  {
   "cell_type": "code",
   "execution_count": null,
   "id": "6d96de60",
   "metadata": {
    "id": "6d96de60"
   },
   "outputs": [],
   "source": [
    "num_list = [3, 6, 9, 12, 15]\n",
    "food_list = ['spaghetti', 'burrito', 'eggs benedict', 'cauliflower', 'quinoa']"
   ]
  },
  {
   "cell_type": "code",
   "execution_count": null,
   "id": "152f64a2",
   "metadata": {
    "id": "152f64a2",
    "outputId": "8504fd1d-1a72-4003-f3e4-35f36bc9d90f"
   },
   "outputs": [],
   "source": [
    "#Print the first item from a list; Don't forget that indexing starts at zero\n",
    "print(num_list[0])\n",
    "print(food_list[0])"
   ]
  },
  {
   "cell_type": "code",
   "execution_count": null,
   "id": "cf6fa870",
   "metadata": {
    "id": "cf6fa870",
    "outputId": "93bca28c-e8de-4aad-ef67-89a8fc1ef9b1"
   },
   "outputs": [],
   "source": [
    "my_fave_food = food_list[0]\n",
    "print(my_fave_food)"
   ]
  },
  {
   "cell_type": "code",
   "execution_count": null,
   "id": "29da1ba6",
   "metadata": {
    "id": "29da1ba6",
    "outputId": "1346b5df-1c72-460e-b1ca-5b592cb6b360",
    "scrolled": true
   },
   "outputs": [],
   "source": [
    "#Print the last item from a list; this is called negative indexing\n",
    "print(num_list[-1])\n",
    "print(food_list[-1])"
   ]
  },
  {
   "cell_type": "code",
   "execution_count": null,
   "id": "1e93d7d4",
   "metadata": {
    "id": "1e93d7d4",
    "outputId": "97a24ea3-3828-4a84-c834-6bd7a177e5ef"
   },
   "outputs": [],
   "source": [
    "#check to see if a specific item is in a list\n",
    "question_word = 'burriiiiito'\n",
    "\n",
    "if question_word in food_list:\n",
    "    print(\"Yes, it's in the food list\")\n",
    "else:\n",
    "    print(\"No, I don't see a burrito\")"
   ]
  },
  {
   "cell_type": "markdown",
   "id": "05f30620",
   "metadata": {
    "id": "05f30620"
   },
   "source": [
    "## Dictionaries"
   ]
  },
  {
   "cell_type": "code",
   "execution_count": null,
   "id": "6d29a3d7",
   "metadata": {
    "id": "6d29a3d7",
    "outputId": "941d18d3-e563-4b53-c235-29808ff0a768"
   },
   "outputs": [],
   "source": [
    "pet_dict ={'Julia': 'Cat','Elaine': None,'Lih-An': 'Rabbit'}\n",
    "\n",
    "print(pet_dict)"
   ]
  },
  {
   "cell_type": "code",
   "execution_count": null,
   "id": "a18d6f21",
   "metadata": {
    "id": "a18d6f21",
    "outputId": "4cc5e976-fa66-473c-b640-3db8add65701"
   },
   "outputs": [],
   "source": [
    "#Add to your dictionary\n",
    "pet_dict.update({\"Caitlin\": \"Cat\"})\n",
    "print(pet_dict)"
   ]
  },
  {
   "cell_type": "code",
   "execution_count": null,
   "id": "54c58ca8",
   "metadata": {
    "id": "54c58ca8",
    "outputId": "e230b7d3-7ead-45e0-b71b-1fd670435877"
   },
   "outputs": [],
   "source": [
    "#remove everything from your dictionary\n",
    "pet_dict.clear()\n",
    "\n",
    "print(pet_dict)"
   ]
  },
  {
   "cell_type": "markdown",
   "id": "5489be1a",
   "metadata": {
    "id": "5489be1a"
   },
   "source": [
    "## Today's Reading\n",
    "1) https://www.python-engineer.com/posts/string-methods-python/ <br>\n",
    "2) https://www.geeksforgeeks.org/list-methods-in-python/ <br>\n",
    "3) https://www.w3schools.com/python/python_ref_dictionary.asp <br>\n",
    "4) https://www.geeksforgeeks.org/ordereddict-in-python/ - optional <br>"
   ]
  },
  {
   "cell_type": "markdown",
   "id": "8c9da6f9",
   "metadata": {
    "id": "8c9da6f9"
   },
   "source": [
    "## Challenge\n",
    "Find 5 (or more) items that you find to be interesting or potentially useful and add an example of each to your personal cheatsheet, be prepared to share an example with the class."
   ]
  },
  {
   "cell_type": "code",
   "execution_count": null,
   "id": "b0c942d0",
   "metadata": {
    "id": "b0c942d0"
   },
   "outputs": [],
   "source": []
  }
 ],
 "metadata": {
  "colab": {
   "provenance": []
  },
  "kernelspec": {
   "display_name": "Python 3 (ipykernel)",
   "language": "python",
   "name": "python3"
  },
  "language_info": {
   "codemirror_mode": {
    "name": "ipython",
    "version": 3
   },
   "file_extension": ".py",
   "mimetype": "text/x-python",
   "name": "python",
   "nbconvert_exporter": "python",
   "pygments_lexer": "ipython3",
   "version": "3.9.13"
  }
 },
 "nbformat": 4,
 "nbformat_minor": 5
}
