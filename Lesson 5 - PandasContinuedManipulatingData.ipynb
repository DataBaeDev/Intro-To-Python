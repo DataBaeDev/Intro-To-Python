{
  "cells": [
    {
      "cell_type": "markdown",
      "metadata": {
        "id": "view-in-github",
        "colab_type": "text"
      },
      "source": [
        "<a href=\"https://colab.research.google.com/github/DataBaeDev/Intro-To-Python/blob/main/Lesson%205%20-%20PandasContinuedManipulatingData.ipynb\" target=\"_parent\"><img src=\"https://colab.research.google.com/assets/colab-badge.svg\" alt=\"Open In Colab\"/></a>"
      ]
    },
    {
      "cell_type": "markdown",
      "id": "7446797e",
      "metadata": {
        "id": "7446797e"
      },
      "source": [
        "# Pandas Continued - Manipulating Data"
      ]
    },
    {
      "cell_type": "markdown",
      "id": "c3620e1c",
      "metadata": {
        "id": "c3620e1c"
      },
      "source": [
        "## Import Libraries & Datasets"
      ]
    },
    {
      "cell_type": "code",
      "execution_count": 2,
      "id": "d2c91394",
      "metadata": {
        "id": "d2c91394"
      },
      "outputs": [],
      "source": [
        "import pandas as pd"
      ]
    },
    {
      "cell_type": "markdown",
      "id": "f2fe85e1",
      "metadata": {
        "id": "f2fe85e1"
      },
      "source": [
        "We will be using two datasets from the Open Repair Alliance (https://openrepair.org/open-data/downloads/)<br>\n",
        "1) Download the Fixit Clinic Zip file, use the OpenRepairData_v0.3_FixitClinic.csv file <br>\n",
        "2) Download the Restart Project Zip file, use the OpenRepairData_v0.3_RestartProject.csv file"
      ]
    },
    {
      "cell_type": "code",
      "execution_count": null,
      "id": "cafbb2b1",
      "metadata": {
        "id": "cafbb2b1"
      },
      "outputs": [],
      "source": [
        "fixit_df = pd.read_csv(r\"/filepath\")"
      ]
    },
    {
      "cell_type": "code",
      "execution_count": null,
      "id": "8b1f6417",
      "metadata": {
        "id": "8b1f6417"
      },
      "outputs": [],
      "source": [
        "restart_proj_df = pd.read_csv(r\"/filepath\")"
      ]
    },
    {
      "cell_type": "markdown",
      "id": "4da84ae5",
      "metadata": {
        "id": "4da84ae5"
      },
      "source": [
        "## Missing Values"
      ]
    },
    {
      "cell_type": "code",
      "execution_count": null,
      "id": "c6a5671a",
      "metadata": {
        "id": "c6a5671a"
      },
      "outputs": [],
      "source": [
        "# creating DataFrame from dict narray / lists\n",
        "grades = {'Student ID': [899, 341, 276, 975, 114, 583, 899],\n",
        "\t\t'Test 1 Score': [88, 90, 87, 92, 95, None, 88],\n",
        "        'Test 2 Score': [76, 92, 92, 88, None, None, 76],\n",
        "       }\n",
        "\n",
        "grades_df = pd.DataFrame(grades)"
      ]
    },
    {
      "cell_type": "code",
      "execution_count": null,
      "id": "7c7ab5a9",
      "metadata": {
        "id": "7c7ab5a9"
      },
      "outputs": [],
      "source": [
        "grades_df"
      ]
    },
    {
      "cell_type": "code",
      "execution_count": null,
      "id": "c3fbeab2",
      "metadata": {
        "id": "c3fbeab2",
        "scrolled": false
      },
      "outputs": [],
      "source": [
        "grades_df.isna()"
      ]
    },
    {
      "cell_type": "code",
      "execution_count": null,
      "id": "79773fb6",
      "metadata": {
        "id": "79773fb6"
      },
      "outputs": [],
      "source": [
        "grades_df.isna().sum()"
      ]
    },
    {
      "cell_type": "code",
      "execution_count": null,
      "id": "4f1cea94",
      "metadata": {
        "id": "4f1cea94",
        "scrolled": false
      },
      "outputs": [],
      "source": [
        "#Replace the null values with zeroes or another number\n",
        "#This is not a permanent change, you'll need to reassign the new dataset value to the dataset name\n",
        "\n",
        "grades_df = grades_df.fillna(0)"
      ]
    },
    {
      "cell_type": "code",
      "execution_count": null,
      "id": "52440008",
      "metadata": {
        "id": "52440008",
        "scrolled": false
      },
      "outputs": [],
      "source": [
        "#Drop the rows with null values\n",
        "#This is not a permanent change, you'll need to reassign the new dataset value to the dataset name\n",
        "grades_df.dropna()"
      ]
    },
    {
      "cell_type": "markdown",
      "id": "06ba8b7e",
      "metadata": {
        "id": "06ba8b7e"
      },
      "source": [
        "## Handling Duplicates"
      ]
    },
    {
      "cell_type": "code",
      "execution_count": null,
      "id": "df4794b6",
      "metadata": {
        "id": "df4794b6"
      },
      "outputs": [],
      "source": [
        "#Tells us how many rows are duplicates\n",
        "grades_df.duplicated().sum()"
      ]
    },
    {
      "cell_type": "code",
      "execution_count": null,
      "id": "60da6a3e",
      "metadata": {
        "id": "60da6a3e"
      },
      "outputs": [],
      "source": [
        "#tells us which specific row(s) is a duplicate\n",
        "grades_df.duplicated()"
      ]
    },
    {
      "cell_type": "code",
      "execution_count": null,
      "id": "046b05be",
      "metadata": {
        "id": "046b05be",
        "scrolled": true
      },
      "outputs": [],
      "source": [
        "grades_df = grades_df.drop_duplicates()"
      ]
    },
    {
      "cell_type": "code",
      "execution_count": null,
      "id": "b7dcf25d",
      "metadata": {
        "id": "b7dcf25d"
      },
      "outputs": [],
      "source": [
        "grades_df"
      ]
    },
    {
      "cell_type": "markdown",
      "id": "0ebdc89d",
      "metadata": {
        "id": "0ebdc89d"
      },
      "source": [
        "## Transforming Data"
      ]
    },
    {
      "cell_type": "code",
      "execution_count": 3,
      "id": "3aa357de",
      "metadata": {
        "id": "3aa357de"
      },
      "outputs": [],
      "source": [
        "#Convert 2 lists into a dataframe\n",
        "\n",
        "food = ['sandwich', 'omelette', 'pasta', 'cake', 'ice cream', 'omelette', 'pasta', 'veggie burger', 'veggie burger', 'cake']\n",
        "price = [11, 7, 14, 5, 4, 7, 14, 10, 10, 5]\n",
        "\n",
        "food_price_df = pd.DataFrame(zip(food, price), columns =['Food', 'Price'])"
      ]
    },
    {
      "cell_type": "code",
      "execution_count": null,
      "id": "f9350331",
      "metadata": {
        "id": "f9350331"
      },
      "outputs": [],
      "source": [
        "food_price_df"
      ]
    },
    {
      "cell_type": "code",
      "execution_count": null,
      "id": "845a9966",
      "metadata": {
        "id": "845a9966"
      },
      "outputs": [],
      "source": [
        "#Create a new column using a map\n",
        "meal_map = {\n",
        "    'sandwich': 'lunch',\n",
        "    'omelette': 'breakfast',\n",
        "    'pasta': 'dinner',\n",
        "    'cake': 'dessert',\n",
        "    'ice cream': 'dessert',\n",
        "    'veggie burger': 'lunch'\n",
        "}\n",
        "\n",
        "food_price_df['Category'] = food_price_df['Food'].map(meal_map)\n",
        "\n",
        "print(food_price_df)"
      ]
    },
    {
      "cell_type": "code",
      "execution_count": null,
      "id": "bddbae6e",
      "metadata": {
        "id": "bddbae6e"
      },
      "outputs": [],
      "source": [
        "food_price_df['Price w. Tax'] = food_price_df['Price']* 1.06"
      ]
    },
    {
      "cell_type": "code",
      "execution_count": null,
      "id": "bf7de223",
      "metadata": {
        "id": "bf7de223"
      },
      "outputs": [],
      "source": [
        "food_price_df.head()"
      ]
    },
    {
      "cell_type": "markdown",
      "id": "3ee557d7",
      "metadata": {
        "id": "3ee557d7"
      },
      "source": [
        "## Open Repair Datasets"
      ]
    },
    {
      "cell_type": "code",
      "execution_count": null,
      "id": "22009d80",
      "metadata": {
        "id": "22009d80"
      },
      "outputs": [],
      "source": [
        "fixit_df.head(15)"
      ]
    },
    {
      "cell_type": "code",
      "execution_count": null,
      "id": "0c519d92",
      "metadata": {
        "id": "0c519d92",
        "scrolled": true
      },
      "outputs": [],
      "source": [
        "# Drop an unneeded column from a dataframe\n",
        "fixit_df.drop(['group_identifier'], axis=1, inplace = True)\n",
        "restart_proj_df.drop(['group_identifier'], axis=1, inplace = True)"
      ]
    },
    {
      "cell_type": "code",
      "execution_count": null,
      "id": "c783d448",
      "metadata": {
        "id": "c783d448"
      },
      "outputs": [],
      "source": [
        "print(list(fixit_df.columns))"
      ]
    },
    {
      "cell_type": "code",
      "execution_count": null,
      "id": "3e952e1c",
      "metadata": {
        "id": "3e952e1c"
      },
      "outputs": [],
      "source": [
        "#Replace specific values in a dataframe\n",
        "fixit_df['repair_barrier_if_end_of_life'] = fixit_df['repair_barrier_if_end_of_life'].replace([None], 'Not Applicable')"
      ]
    },
    {
      "cell_type": "code",
      "execution_count": null,
      "id": "b50d03a2",
      "metadata": {
        "id": "b50d03a2"
      },
      "outputs": [],
      "source": [
        "fixit_df['repair_barrier_if_end_of_life'].head()"
      ]
    },
    {
      "cell_type": "markdown",
      "id": "c68653e0",
      "metadata": {
        "id": "c68653e0"
      },
      "source": [
        "## Copying and Pivoting Dataframes"
      ]
    },
    {
      "cell_type": "code",
      "execution_count": null,
      "id": "102de3c4",
      "metadata": {
        "id": "102de3c4",
        "scrolled": true
      },
      "outputs": [],
      "source": [
        "#create a new dataframe using a subset of an existing dataframe\n",
        "fixit_lamp_df = fixit_df[fixit_df['product_category']== 'Lamp']\n",
        "fixit_lamp_df.head()"
      ]
    },
    {
      "cell_type": "code",
      "execution_count": null,
      "id": "1aa19d9f",
      "metadata": {
        "id": "1aa19d9f"
      },
      "outputs": [],
      "source": [
        "#Pandas pivot tables, more info found here: https://pandas.pydata.org/pandas-docs/stable/reference/api/pandas.pivot.html\n",
        "pivot_restart_proj_df = pd.pivot_table(restart_proj_df, index='product_category', values='country', columns='repair_status', aggfunc='count')"
      ]
    },
    {
      "cell_type": "code",
      "execution_count": null,
      "id": "108aa8a8",
      "metadata": {
        "id": "108aa8a8"
      },
      "outputs": [],
      "source": [
        "pivot_restart_proj_df"
      ]
    },
    {
      "cell_type": "markdown",
      "id": "8974270e",
      "metadata": {
        "id": "8974270e"
      },
      "source": [
        "## Joining Dataframes\n",
        "https://www.geeksforgeeks.org/python-pandas-merging-joining-and-concatenating/"
      ]
    },
    {
      "cell_type": "code",
      "execution_count": null,
      "id": "1fdb3bbf",
      "metadata": {
        "id": "1fdb3bbf"
      },
      "outputs": [],
      "source": [
        "#Create a second pivot table similar to the one above\n",
        "pivot_fixit_df = pd.pivot_table(fixit_df, index='product_category', values='country', columns='repair_status', aggfunc='count')"
      ]
    },
    {
      "cell_type": "code",
      "execution_count": null,
      "id": "81e0abe5",
      "metadata": {
        "id": "81e0abe5"
      },
      "outputs": [],
      "source": [
        "#  Merge the two dataframes (similar to a sql inner join)\n",
        "#  merged_df = pd.merge(df1, df2, left_on='column name', right_on='column name')\n",
        "\n",
        "merged_df = pd.merge(pivot_fixit_df, pivot_restart_proj_df, left_index=True, right_index=True)"
      ]
    },
    {
      "cell_type": "code",
      "execution_count": null,
      "id": "84529f8b",
      "metadata": {
        "id": "84529f8b",
        "scrolled": true
      },
      "outputs": [],
      "source": [
        "merged_df.head()"
      ]
    },
    {
      "cell_type": "code",
      "execution_count": null,
      "id": "48aa47e8",
      "metadata": {
        "id": "48aa47e8",
        "scrolled": false
      },
      "outputs": [],
      "source": [
        "#clean up the column names\n",
        "merged_df.rename(columns={'End of life_x': 'Fixit_End_of_life', 'Fixed_x': 'Fixit_Fixed'})"
      ]
    },
    {
      "cell_type": "code",
      "execution_count": null,
      "id": "715a5259",
      "metadata": {
        "id": "715a5259"
      },
      "outputs": [],
      "source": [
        "#Concat is like a SQL Union All\n",
        "unioned_df = pd.concat([fixit_df, restart_proj_df])"
      ]
    },
    {
      "cell_type": "code",
      "execution_count": null,
      "id": "086dcc36",
      "metadata": {
        "id": "086dcc36"
      },
      "outputs": [],
      "source": [
        "unioned_df.tail()"
      ]
    },
    {
      "cell_type": "code",
      "execution_count": null,
      "id": "04f36f37",
      "metadata": {
        "id": "04f36f37",
        "scrolled": false
      },
      "outputs": [],
      "source": [
        "unioned_df.shape"
      ]
    }
  ],
  "metadata": {
    "colab": {
      "provenance": [],
      "include_colab_link": true
    },
    "kernelspec": {
      "display_name": "Python 3 (ipykernel)",
      "language": "python",
      "name": "python3"
    },
    "language_info": {
      "codemirror_mode": {
        "name": "ipython",
        "version": 3
      },
      "file_extension": ".py",
      "mimetype": "text/x-python",
      "name": "python",
      "nbconvert_exporter": "python",
      "pygments_lexer": "ipython3",
      "version": "3.9.13"
    }
  },
  "nbformat": 4,
  "nbformat_minor": 5
}